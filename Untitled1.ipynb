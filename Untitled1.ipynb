{
  "nbformat": 4,
  "nbformat_minor": 0,
  "metadata": {
    "colab": {
      "name": "Untitled1.ipynb",
      "provenance": [],
      "collapsed_sections": []
    },
    "kernelspec": {
      "name": "python3",
      "display_name": "Python 3"
    },
    "language_info": {
      "name": "python"
    }
  },
  "cells": [
    {
      "cell_type": "code",
      "metadata": {
        "colab": {
          "base_uri": "https://localhost:8080/"
        },
        "id": "jjS0Rz20khEw",
        "outputId": "f9c07d51-268e-4028-dd0f-b9f9d33e8e84"
      },
      "source": [
        "# 1._ IMPORTAMOS KERAS\n",
        "%tensorflow_version 2.x\n",
        "import tensorflow as tf\n",
        "from tensorflow import keras\n",
        "print(tf.keras.__version__)\n",
        "print(\"GPU Available:\", tf.config.list_physical_devices('GPU'))\n",
        "print(tf.__version__)"
      ],
      "execution_count": null,
      "outputs": [
        {
          "output_type": "stream",
          "name": "stdout",
          "text": [
            "2.6.0\n",
            "GPU Available: []\n",
            "2.6.0\n"
          ]
        }
      ]
    },
    {
      "cell_type": "markdown",
      "metadata": {
        "id": "fOJjZxAXkpdr"
      },
      "source": [
        ""
      ]
    },
    {
      "cell_type": "code",
      "metadata": {
        "id": "8IvCzPOlkp0T",
        "colab": {
          "base_uri": "https://localhost:8080/"
        },
        "outputId": "9c36bff2-9193-409d-82f6-2a477f2e6fa3"
      },
      "source": [
        "#mnist = keras.datasets.fashion_mnist\n",
        "from keras.datasets import fashion_mnist\n",
        "\n",
        "(train_images, train_labels), (test_images, test_labels) = fashion_mnist.load_data()\n",
        "\n",
        "#creamos vector con elementos\n",
        "class_names = ['T-shirt/top', 'Trouser', 'Pullover', 'Dress', 'Coat',\n",
        "               'Sandal', 'Shirt', 'Sneaker', 'Bag', 'Ankle boot']\n",
        "\n"
      ],
      "execution_count": null,
      "outputs": [
        {
          "output_type": "stream",
          "name": "stdout",
          "text": [
            "Downloading data from https://storage.googleapis.com/tensorflow/tf-keras-datasets/train-labels-idx1-ubyte.gz\n",
            "32768/29515 [=================================] - 0s 0us/step\n",
            "40960/29515 [=========================================] - 0s 0us/step\n",
            "Downloading data from https://storage.googleapis.com/tensorflow/tf-keras-datasets/train-images-idx3-ubyte.gz\n",
            "26427392/26421880 [==============================] - 0s 0us/step\n",
            "26435584/26421880 [==============================] - 0s 0us/step\n",
            "Downloading data from https://storage.googleapis.com/tensorflow/tf-keras-datasets/t10k-labels-idx1-ubyte.gz\n",
            "16384/5148 [===============================================================================================] - 0s 0us/step\n",
            "Downloading data from https://storage.googleapis.com/tensorflow/tf-keras-datasets/t10k-images-idx3-ubyte.gz\n",
            "4423680/4422102 [==============================] - 0s 0us/step\n",
            "4431872/4422102 [==============================] - 0s 0us/step\n"
          ]
        }
      ]
    },
    {
      "cell_type": "markdown",
      "metadata": {
        "id": "NnUYTq5zlY0Y"
      },
      "source": [
        ""
      ]
    },
    {
      "cell_type": "markdown",
      "metadata": {
        "id": "opyZVSAIDJND"
      },
      "source": [
        "Estudiamos los datos de entrenamiento "
      ]
    },
    {
      "cell_type": "code",
      "metadata": {
        "colab": {
          "base_uri": "https://localhost:8080/"
        },
        "id": "DbHjZJhUlZE9",
        "outputId": "e8a36a51-cbed-4a05-a42b-e9042d22771f"
      },
      "source": [
        "print(train_images.shape)\n",
        "\n",
        "train_images[50000]\n"
      ],
      "execution_count": null,
      "outputs": [
        {
          "output_type": "stream",
          "name": "stdout",
          "text": [
            "(60000, 28, 28)\n",
            "(10000, 28, 28)\n"
          ]
        },
        {
          "output_type": "execute_result",
          "data": {
            "text/plain": [
              "array([[  0,   0,   0,   0,   0,   0,   0,   0,   0,   0,   0,   0,   0,\n",
              "          0,   0,   0,   0,   0,   0,   0,   0,   0,   0,   0,   0,   0,\n",
              "          0,   0],\n",
              "       [  0,   0,   0,   0,   0,   0,   0,   0,   0,   0,   0,   0,   0,\n",
              "          0,   0,   0,   0,   0,   0,   0,   0,   0,   0,   0,   0,   0,\n",
              "          0,   0],\n",
              "       [  0,   0,   0,   0,   0,   0,   0,   0,   0,   0,   0,   0,   0,\n",
              "          0,   0,   0,   0,   0,   0,   0,   0,   0,   0,   0,   0,   0,\n",
              "          0,   0],\n",
              "       [  0,   0,   0,   0,   0,   0,   0,   0,   0,   0,   0,   0,   0,\n",
              "          0,   0,   0,   0,   0,   0,   0,   0,   0,   0,   0,   0,   0,\n",
              "          0,   0],\n",
              "       [  0,   0,   0,   0,   0,   0,   0,   0,   0,   1,   0,   0,   0,\n",
              "          0,   2,   0,   1,   0,  16,  94,   0,   0,   2,   1,   1,   0,\n",
              "          1,   0],\n",
              "       [  0,   0,   0,   0,   0,   0,   0,   0,   0,   0,   1,   0,   1,\n",
              "          1,   0,   0,   1,   0, 101, 196, 187,   8,   0,   0,   0,   1,\n",
              "          0,   0],\n",
              "       [  0,   0,   0,   0,   0,   0,   0,   0,   0,   0,   1,   0,   1,\n",
              "          1,   0,   1,   0,   0, 161, 167, 166, 112,  11,   1,   0,   0,\n",
              "          6,   0],\n",
              "       [  0,   0,   0,   0,   0,   0,   0,   0,   0,   1,   0,   0,   0,\n",
              "          0,   0,   3,   0, 121, 213, 187, 183, 180, 179, 155, 147, 129,\n",
              "        175,   8],\n",
              "       [  0,   0,   0,   0,   0,   0,   0,   0,   0,   0,   1,   0,   0,\n",
              "          1,   2,   1,   0, 119, 198, 183, 185, 170, 185, 172, 170, 170,\n",
              "        146,   2],\n",
              "       [  0,   0,   0,   0,   0,   0,   0,   0,   0,   0,   0,   0,   0,\n",
              "          2,   3,   0,   0, 175, 208, 176, 212, 180, 174, 166, 164, 164,\n",
              "        144,   0],\n",
              "       [  0,   0,   0,   0,   0,   0,   0,   0,   0,   0,   0,   0,   0,\n",
              "          2,   0,   0,  73, 255, 192, 134, 175, 183, 192, 184, 189, 179,\n",
              "        193,   0],\n",
              "       [  0,   0,   0,   0,   0,   0,   0,   0,   0,   0,   0,   2,   1,\n",
              "          0,   0,  70, 192, 170, 134, 189, 192, 175, 157, 156, 171, 149,\n",
              "        180,   8],\n",
              "       [  0,   0,   0,   1,   0,   0,   0,   0,   0,   1,   3,   1,   0,\n",
              "         35,  99, 181, 183, 126, 175, 197, 208, 203, 197, 188, 175, 158,\n",
              "        187,  14],\n",
              "       [  1,   1,   0,   0,   1,   1,   1,   1,   2,   2,   0,   0,  70,\n",
              "        188, 188, 116, 131, 180, 202, 190, 181, 188, 187, 175, 167, 156,\n",
              "        199,  34],\n",
              "       [  0,   0,   3,   3,   2,   0,   0,   0,   0,   0,   3,  69, 179,\n",
              "        106, 134, 151, 187, 183, 178, 171, 169, 187, 187, 183, 188, 167,\n",
              "        210,  53],\n",
              "       [  0,   0,   0,   0,   0,   0,   1,  11,  19,  57, 114, 130, 125,\n",
              "        129, 160, 174, 178, 184, 185, 196, 197, 198, 192, 188, 189, 166,\n",
              "        211,  52],\n",
              "       [  7,   0,  29,  87,  88, 105, 101,  99, 108, 110, 110, 137, 155,\n",
              "        166, 174, 179, 174, 176, 180, 181, 181, 180, 180, 184, 174, 169,\n",
              "        211,  66],\n",
              "       [  0,  19, 143, 119, 115, 116, 111, 114, 119, 116, 125, 139, 147,\n",
              "        155, 158, 161, 170, 172, 174, 174, 179, 188, 192, 184, 170, 174,\n",
              "        203,  85],\n",
              "       [  0,  98, 162, 148, 146, 140, 137, 146, 147, 152, 153, 155, 158,\n",
              "        164, 166, 169, 171, 172, 179, 175, 176, 180, 187, 180, 180, 183,\n",
              "        197,  92],\n",
              "       [ 49, 128, 133, 162, 175, 179, 178, 165, 162, 157, 158, 165, 178,\n",
              "        180, 180, 187, 190, 194, 202, 207, 210, 205, 216, 217, 212, 212,\n",
              "        216,  94],\n",
              "       [ 28, 131, 138, 140, 144, 161, 171, 184, 196, 194, 194, 197, 205,\n",
              "        208, 206, 202, 201, 201, 197, 194, 190, 180, 175, 165, 152, 147,\n",
              "        157, 112],\n",
              "       [  0,   0,  48, 116, 158, 164, 151, 157, 160, 169, 172, 172, 172,\n",
              "        183, 185, 202, 181, 171, 152, 170, 170, 162, 167, 175, 170, 162,\n",
              "        157, 123],\n",
              "       [  3,   0,   0,   0,   6,  53, 105, 143, 169, 165, 185, 183, 194,\n",
              "        172,  69,  38,  20,   1,   0,  67, 216, 213, 202, 210, 208, 198,\n",
              "        192, 134],\n",
              "       [  0,   2,   2,   0,   0,   0,   0,   0,   0,   0,   0,   0,   5,\n",
              "          1,   0,   0,   0,   1,   0,   0,  47,  56,  48,  41,  43,  39,\n",
              "         35,   1],\n",
              "       [  0,   0,   0,   0,   0,   0,   0,   0,   0,   0,   0,   0,   0,\n",
              "          0,   0,   0,   0,   0,   0,   0,   0,   0,   0,   0,   0,   0,\n",
              "          0,   0],\n",
              "       [  0,   0,   0,   0,   0,   0,   0,   0,   0,   0,   0,   0,   0,\n",
              "          0,   0,   0,   0,   0,   0,   0,   0,   0,   0,   0,   0,   0,\n",
              "          0,   0],\n",
              "       [  0,   0,   0,   0,   0,   0,   0,   0,   0,   0,   0,   0,   0,\n",
              "          0,   0,   0,   0,   0,   0,   0,   0,   0,   0,   0,   0,   0,\n",
              "          0,   0],\n",
              "       [  0,   0,   0,   0,   0,   0,   0,   0,   0,   0,   0,   0,   0,\n",
              "          0,   0,   0,   0,   0,   0,   0,   0,   0,   0,   0,   0,   0,\n",
              "          0,   0]], dtype=uint8)"
            ]
          },
          "metadata": {},
          "execution_count": 13
        }
      ]
    },
    {
      "cell_type": "code",
      "metadata": {
        "colab": {
          "base_uri": "https://localhost:8080/"
        },
        "id": "ke8WXI0vEpvM",
        "outputId": "45b7a7d0-3b47-427d-e34f-1ebaf8522020"
      },
      "source": [
        "train_labels"
      ],
      "execution_count": null,
      "outputs": [
        {
          "output_type": "execute_result",
          "data": {
            "text/plain": [
              "array([9, 0, 0, ..., 3, 0, 5], dtype=uint8)"
            ]
          },
          "metadata": {},
          "execution_count": 14
        }
      ]
    },
    {
      "cell_type": "markdown",
      "metadata": {
        "id": "YxH56zjtEUHD"
      },
      "source": [
        ""
      ]
    },
    {
      "cell_type": "code",
      "metadata": {
        "colab": {
          "base_uri": "https://localhost:8080/"
        },
        "id": "3S8JokCgEVBl",
        "outputId": "8ad54211-621f-439c-8071-3b33b6fa7f03"
      },
      "source": [
        "\n",
        "train_labels[50000]"
      ],
      "execution_count": null,
      "outputs": [
        {
          "output_type": "execute_result",
          "data": {
            "text/plain": [
              "9"
            ]
          },
          "metadata": {},
          "execution_count": 12
        }
      ]
    },
    {
      "cell_type": "markdown",
      "metadata": {
        "id": "azBhEh8wmFwi"
      },
      "source": [
        ""
      ]
    },
    {
      "cell_type": "code",
      "metadata": {
        "colab": {
          "base_uri": "https://localhost:8080/",
          "height": 265
        },
        "id": "i8fB_vCimGO4",
        "outputId": "9ad74ed4-c9fd-4bc6-bea2-9dfffbac369d"
      },
      "source": [
        "import matplotlib.pyplot as plt\n",
        "digit = train_images[50000]\n",
        "plt.imshow(digit, cmap=plt.cm.binary)\n",
        "plt.show()"
      ],
      "execution_count": null,
      "outputs": [
        {
          "output_type": "display_data",
          "data": {
            "image/png": "[encoded data removed]",
            "text/plain": [
              "<Figure size 432x288 with 1 Axes>"
            ]
          },
          "metadata": {
            "needs_background": "light"
          }
        }
      ]
    },
    {
      "cell_type": "markdown",
      "metadata": {
        "id": "Z0HH3T-6E7lo"
      },
      "source": [
        ""
      ]
    },
    {
      "cell_type": "code",
      "metadata": {
        "colab": {
          "base_uri": "https://localhost:8080/"
        },
        "id": "pRBG6B5cE8O6",
        "outputId": "8d40e4e9-1479-4232-a9bd-144179a1278f"
      },
      "source": [
        "print(test_images.shape)"
      ],
      "execution_count": null,
      "outputs": [
        {
          "output_type": "stream",
          "name": "stdout",
          "text": [
            "(10000, 28, 28)\n"
          ]
        }
      ]
    },
    {
      "cell_type": "code",
      "metadata": {
        "colab": {
          "base_uri": "https://localhost:8080/"
        },
        "id": "aJi4sf8bFE9A",
        "outputId": "2a9b1ea1-443a-4f3f-c960-cdb654283792"
      },
      "source": [
        "test_images[5000]"
      ],
      "execution_count": null,
      "outputs": [
        {
          "output_type": "execute_result",
          "data": {
            "text/plain": [
              "array([[  0,   0,   0,   0,   1,   0,   0,   0,   0,   0,   0,   0,   0,\n",
              "          0,   0,   0,   0,   0,   0,   0,   1,   1,   0,   0,   0,   0,\n",
              "          0,   0],\n",
              "       [  0,   0,   0,   0,   0,   0,   0,   0,   2,  96, 224, 120,  59,\n",
              "         59,  57,  63, 127, 216,  46,   0,   0,   0,   1,   0,   0,   0,\n",
              "          0,   0],\n",
              "       [  0,   0,   0,   0,   0,   0,   0, 161, 233, 221, 215, 249, 249,\n",
              "        234, 233, 248, 242, 205, 231, 195,  63,   0,   0,   0,   0,   0,\n",
              "          0,   0],\n",
              "       [  0,   0,   0,   0,   0,   0, 176, 251, 222, 225, 204, 190, 201,\n",
              "        207, 208, 199, 194, 220, 227, 235, 245,  71,   0,   1,   0,   0,\n",
              "          0,   0],\n",
              "       [  0,   0,   0,   0,   0,  15, 233, 226, 226, 225, 239, 240, 227,\n",
              "        218, 209, 219, 239, 228, 225, 223, 241, 175,   0,   0,   0,   0,\n",
              "          0,   0],\n",
              "       [  0,   0,   0,   0,   0,  77, 249, 226, 230, 229, 228, 219, 164,\n",
              "        171, 246, 223, 222, 223, 230, 229, 234, 219,   0,   0,   0,   0,\n",
              "          0,   0],\n",
              "       [  0,   0,   0,   0,   0, 139, 246, 231, 217, 175, 138, 122, 135,\n",
              "        140, 250, 216, 225, 225, 227, 232, 231, 247,  54,   0,   0,   0,\n",
              "          0,   0],\n",
              "       [  0,   0,   0,   0,   0, 203, 243, 238, 182, 140, 130,  92, 101,\n",
              "        211, 236, 228, 221, 222, 228, 233, 231, 253, 129,   0,   0,   0,\n",
              "          0,   0],\n",
              "       [  0,   0,   0,   0,   0, 252, 237, 236, 255, 188, 130, 156, 196,\n",
              "        252, 235, 215, 244, 235, 233, 245, 235, 248, 198,   0,   0,   0,\n",
              "          0,   0],\n",
              "       [  0,   0,   0,   0,   0, 216, 237, 236, 208, 255, 245, 254, 247,\n",
              "        213, 244, 158, 226, 234, 240, 234, 240, 244, 222,   0,   0,   0,\n",
              "          0,   0],\n",
              "       [  0,   0,   0,   0,   0, 230, 238, 232, 116, 255, 228, 227, 232,\n",
              "        202,  96,  18,  96, 255, 220, 104, 251, 240, 212,   0,   0,   0,\n",
              "          0,   0],\n",
              "       [  0,   0,   0,   0,   0, 227, 249, 187,  65, 255, 228, 229, 226,\n",
              "        255, 116,   0, 197, 225, 233,  53, 255, 239, 226,   0,   0,   0,\n",
              "          0,   0],\n",
              "       [  0,   0,   0,   0,  25, 227, 254, 152,   0, 255, 237, 249, 240,\n",
              "        232, 255, 249, 246, 255, 197,   0, 255, 239, 237,   0,   0,   0,\n",
              "          0,   0],\n",
              "       [  0,   0,   0,   0,  91, 245, 251,  83,   0, 255, 218, 142, 218,\n",
              "        247, 239, 246, 231, 247, 182,   0, 255, 241, 240,  23,   0,   0,\n",
              "          0,   0],\n",
              "       [  0,   0,   0,   0, 109, 243, 252,  36,  36, 255, 199, 121, 182,\n",
              "        200, 198, 202, 234, 248, 248,   0, 255, 242, 247,  78,   0,   0,\n",
              "          0,   0],\n",
              "       [  0,   0,   0,   0, 122, 242, 255,  21, 103, 255, 213, 163, 191,\n",
              "        152, 221, 109, 211, 242, 255,  27, 255, 246, 247,  76,   0,   0,\n",
              "          0,   0],\n",
              "       [  0,   0,   0,   0, 156, 242, 255,  24, 174, 255, 241, 137, 164,\n",
              "        188, 171, 171, 255, 224, 255,  75, 205, 250, 251, 115,   0,   0,\n",
              "          0,   0],\n",
              "       [  0,   0,   0,   0, 167, 243, 255,   1, 207, 251, 243, 202, 143,\n",
              "        125, 155, 250, 236, 225, 255,  89, 149, 255, 247, 136,   0,   0,\n",
              "          0,   0],\n",
              "       [  0,   0,   0,   0, 178, 243, 255,  14, 234, 248, 230, 250, 244,\n",
              "        222, 254, 236, 234, 229, 255, 154, 130, 255, 243, 165,   0,   0,\n",
              "          0,   0],\n",
              "       [  0,   0,   0,   0, 180, 246, 255,  43, 252, 231, 231, 226, 232,\n",
              "        239, 228, 230, 229, 225, 250, 206, 114, 255, 242, 182,   0,   0,\n",
              "          0,   0],\n",
              "       [  0,   0,   0,   0, 179, 249, 238,  68, 255, 242, 242, 252, 251,\n",
              "        250, 252, 251, 251, 242, 255, 238, 106, 255, 240, 186,   0,   0,\n",
              "          0,   0],\n",
              "       [  0,   0,   0,   0, 178, 250, 230,  43, 202, 181, 186, 189, 191,\n",
              "        192, 193, 192, 193, 190, 195, 169,  73, 255, 241, 185,   0,   0,\n",
              "          0,   0],\n",
              "       [  0,   0,   0,   0, 173, 251, 215,  80, 230, 188, 191, 191, 192,\n",
              "        194, 195, 195, 195, 194, 216, 219,  89, 244, 242, 185,   0,   0,\n",
              "          0,   0],\n",
              "       [  0,   0,   0,   0, 159, 250, 207,   5,  94,  88,  87,  91,  93,\n",
              "        101, 107, 105, 108, 110, 115,  83,  62, 251, 241, 173,   0,   0,\n",
              "          0,   0],\n",
              "       [  0,   0,   0,   0, 148, 255, 214,   0,   0,   0,   0,   0,   0,\n",
              "          0,   0,   0,   0,   0,   0,   0,  13, 248, 252, 173,   0,   0,\n",
              "          0,   0],\n",
              "       [  0,   0,   0,   0,  93, 238, 189,   0,   0,   5,   4,   9,   9,\n",
              "         10,   5,   5,   5,   5,   7,   0,   0, 206, 219,  77,   0,   0,\n",
              "          0,   0],\n",
              "       [  0,   0,   0,   0,  61, 190, 164,   0,   0,   0,   0,   0,   0,\n",
              "          0,   0,   0,   0,   0,   2,   0,   4, 196, 201,  60,   0,   0,\n",
              "          0,   0],\n",
              "       [  0,   0,   0,   0,  44, 177, 147,   0,   0,   1,   0,   0,   0,\n",
              "          0,   0,   0,   0,   0,   1,   0,   0, 143, 168,  36,   0,   0,\n",
              "          0,   0]], dtype=uint8)"
            ]
          },
          "metadata": {},
          "execution_count": 17
        }
      ]
    },
    {
      "cell_type": "code",
      "metadata": {
        "colab": {
          "base_uri": "https://localhost:8080/"
        },
        "id": "P5ieGjtRFNyw",
        "outputId": "3aaa462e-deb0-4b14-b89c-1f9606403308"
      },
      "source": [
        "test_labels[5000]"
      ],
      "execution_count": null,
      "outputs": [
        {
          "output_type": "execute_result",
          "data": {
            "text/plain": [
              "2"
            ]
          },
          "metadata": {},
          "execution_count": 18
        }
      ]
    },
    {
      "cell_type": "code",
      "metadata": {
        "colab": {
          "base_uri": "https://localhost:8080/"
        },
        "id": "kl6a9LjNFQo-",
        "outputId": "fa897e04-3c97-4457-ed06-1454be639c9e"
      },
      "source": [
        "test_labels"
      ],
      "execution_count": null,
      "outputs": [
        {
          "output_type": "execute_result",
          "data": {
            "text/plain": [
              "array([9, 2, 1, ..., 8, 1, 5], dtype=uint8)"
            ]
          },
          "metadata": {},
          "execution_count": 19
        }
      ]
    },
    {
      "cell_type": "code",
      "metadata": {
        "colab": {
          "base_uri": "https://localhost:8080/",
          "height": 265
        },
        "id": "Fsnv_tgzFh3V",
        "outputId": "4f4c7e30-7678-43ce-d1f5-1825bc7d9008"
      },
      "source": [
        "import matplotlib.pyplot as plt\n",
        "digit = test_images[5000]\n",
        "plt.imshow(digit, cmap=plt.cm.binary)\n",
        "plt.show()"
      ],
      "execution_count": null,
      "outputs": [
        {
          "output_type": "display_data",
          "data": {
            "image/png": "[encoded data removed]",
            "text/plain": [
              "<Figure size 432x288 with 1 Axes>"
            ]
          },
          "metadata": {
            "needs_background": "light"
          }
        }
      ]
    }
  ]
}
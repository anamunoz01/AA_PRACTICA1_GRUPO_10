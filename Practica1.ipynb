{
  "nbformat": 4,
  "nbformat_minor": 0,
  "metadata": {
    "colab": {
      "name": "Practica1.ipynb",
      "provenance": [],
      "collapsed_sections": [],
      "authorship_tag": "ABX9TyPNuQV1gQ7vnsUvtqTk3IBH",
      "include_colab_link": true
    },
    "kernelspec": {
      "name": "python3",
      "display_name": "Python 3"
    },
    "language_info": {
      "name": "python"
    }
  },
  "cells": [
    {
      "cell_type": "markdown",
      "metadata": {
        "id": "view-in-github",
        "colab_type": "text"
      },
      "source": [
        "<a href=\"https://colab.research.google.com/github/anamunoz01/AA_PRACTICA1_GRUPO_10/blob/main/Practica1.ipynb\" target=\"_parent\"><img src=\"https://colab.research.google.com/assets/colab-badge.svg\" alt=\"Open In Colab\"/></a>"
      ]
    },
    {
      "cell_type": "markdown",
      "metadata": {
        "id": "aWn9f1xC0qKA"
      },
      "source": [
        "# **PRÁCTICA 1**\n",
        "\n",
        "GRUPO 10\n",
        " \n",
        "Elena Gómez\n",
        "\n",
        "Ana Muñoz"
      ]
    },
    {
      "cell_type": "markdown",
      "metadata": {
        "id": "J9EI5S1v1V9M"
      },
      "source": [
        "### **OBJETIVO**\n",
        "\n",
        "Crear un modelo de Red de Neuronas Artificiales que sea capaz de reconocer y clasificar imágenes de ropa en sus diferentes tipologías. Este modelo será definido, configurado, entrenado, evaluado y mejorado para posteriormente usarlo para hacer predicciones. \n",
        "\n",
        "En primer lugar tenemos que crear un modelo en Keras aplicando el conjunto de datos Fashion-MNIST.\n",
        "\n",
        "Fashion-MNIST es un conjunto de datos de las imágenes de los artículos de Zalando, una tienda de moda online alemana especializada en ventas de ropa y zapatos. \n",
        "\n",
        "El conjunto de datos contiene 70K imágenes en escala de grises en 10 categorías. Estas imágenes muestran prendas individuales de ropa en baja resolución (28 x 28 píxeles). Se usan 60K imágenes para entrenar la red y 10K imágenes para evaluar la precisión con la que la red aprende a clasificar las imágenes"
      ]
    },
    {
      "cell_type": "markdown",
      "metadata": {
        "id": "d-7xQYiH2Z_a"
      },
      "source": [
        "- Importamos tensorflow y comprobamos que la versión es 2.0.0 o superior "
      ]
    },
    {
      "cell_type": "code",
      "metadata": {
        "colab": {
          "base_uri": "https://localhost:8080/"
        },
        "id": "jjS0Rz20khEw",
        "outputId": "0cab883e-6582-48f3-8339-0c265d9ea57c"
      },
      "source": [
        "%tensorflow_version 2.x\n",
        "import tensorflow as tf\n",
        "from tensorflow import keras\n",
        "print(tf.keras.__version__)\n",
        "print(\"GPU Available:\", tf.config.list_physical_devices('GPU'))\n",
        "print(tf.__version__)"
      ],
      "execution_count": null,
      "outputs": [
        {
          "output_type": "stream",
          "name": "stdout",
          "text": [
            "2.6.0\n",
            "GPU Available: []\n",
            "2.6.0\n"
          ]
        }
      ]
    },
    {
      "cell_type": "markdown",
      "metadata": {
        "id": "TplU_PZB2wab"
      },
      "source": [
        "- A continuación, cargamos las imágenes y creamos un vector de 10 elementos en el que a cada posición se le asigna el nombre de cada prenda. ('class_names')\n",
        "\n",
        "![tabla1.PNG](data:image/png;base64,iVBORw0KGgoAAAANSUhEUgAAATsAAAH6CAYAAAB4aOvWAAAAAXNSR0IArs4c6QAAAARnQU1BAACxjwv8YQUAAAAJcEhZcwAADsMAAA7DAcdvqGQAAF3LSURBVHhe7b2HW1RZ1r79/Sm/931nemZ6pnOwW1u77WTOOSNgREABAyYQxRwxK4I5IGJCUTBiQFQwgSBByYIJzNnn22tRRYMWSmn3KJznvmZdSp1d5xyqet+11tq7nP8PhBBiASg7QogloOwIIZagiuwKCosZDAaj1ocjqsguN/8qg8Fg1PpwRBXZFV+7yWAwGLU+HEHZMRiMOheOoOwYDEadC0dQdgwGo86FIyg7BoNR58IRlB2Dwahz4QjKjsFg1LlwBGXHYDDqXDiCsmMwGHUuHEHZMRiMOheOoOwYDEadC0dQdgwGo86FIyg7BoNR58IRlB2Dwahz4QjKjsFg1LlwBGXHYDDqXDiCsmMwGHUuHEHZMRiMOheOoOwYDEadC0dQdgwGo86FI+qQ7G5UCkfHGQyGVcIRTsvuasmNiiiWcDCmpnHw0FHExh3AmXMpDo/XNNIuZeFQ/FHE7InFldwCFBVfdziOwfjgwsyhoqvXUFBUov/dXpX/divNq9z8Iuw7cBgxe/fhQmp61ecyqg1HOC27lIuXsGrNemzdHo30jGyHY2oaEydNxchRYxC5ZZvD4zWNQ/HHMHnqDAwd5ovzKenILyx2OI7B+JBC5tK+/YewfkMEloWGY0X4akRF7UDymfMqORkjc2x84EQM8xmO3TGxr5yD4Tgc4bTsonfvxX8+/QIdOnXFwcNHHY6paXTu2gO//tYMIfMXmZ/tJajz2aKIt2evvqjf4EcknjqDvIKrDscxGB9CSAaXfSUPYeFrMGiwF5o1b4UGP/yIet81QMuWbTFnTghOnDyt486npKFt+474oVFjrFy9zsH53m7O1PVwhNOy2xkdg4/+8TFat+2AA4eOOBwjYS915Q3T9Nz2c+U3xi67eSELzTEZd03jj7E1OR9lx6hdIa0WmUc///I7fmr8q2ZtCxcthf/ocea/4Ub45tvvMHX6TFzOyXcoO/t/++XzoeqckSi/TuUxr84Ze1Q/puq42haO+Mtkl5NXiFOnz2DDps0IDVuF/QfjkZF12Rz740W0yy5o4mTsid2HJUtXYOPGSJy7cFF7GJXPl2pS/uhde7SE3mzK3rPnUyvGUHaM2hTy3277jl3wxZffYNqM2frfe0bmZf1z6vRZ+NEI0L3fQOyNO+BQdiIlEWbMnjisMo9t3rIVJ08na+/vD5nd0DGJp5Kxeu16REZtQ9KZC6/MDRkTf/Q4IjZv0TEXUi+ZeSVtIMquRrKTBQN5E9zcB6Bjpy7o1r23RkDgRH0D7eNEdl9/8z1+b9IcXbp2R8tWbdGiZRsMH+GPvbHl43LzC3XxYZiPHzp17oY2bdqjXftO6D/QA7H7DuKyKQcoO0ZtCfmAjj+agM8+/0ozuw2bIlVecqzQyOpYwknMMmWsZHpHj594RXbyfBGY/+jxZs70MPOqF7p16wlXt36YNXteRa/v8JHjKs5effqiT183dOvRCy593TF33gJNQqSvffzEKYwZG2Aed0OvXi4m+qJ3HzcsWrzsnRcN33c44i+RnfTy5EWUN2n8+An6JnTu0l1FNmXqDH2h5RNIZCdveuvW7TB6zDiMM2Obt2yNRj/+rKWtfOqcOXcB3kN98cuvTfTTbnxAEAYMGmI+Fb/FqNFjkXgyibJj1JrIupyLLVt36Bzq3cdVV1ntx2ROyH+7SWfO41TSWa2EXpZdZtYVbInajlZmzkgyMSl4qiYH8nOzFq1wwswHOcdCIyxJHpo2b4m5IQswafJUtDFzVoS3KSJS70PmmMy1Xr1dMM2IUebWL7/+bn7uq7sk/sgSa1844i+RnayOyos9b/5C/RQ5lXQG4wImoPHPJj3vPxDpGVkVspOmrGR8mdlXTOSYT7V55o39CX4jRiEh8ZQuiPzz40+MENsjLHy1vplr1m1E/fqN9I2S41HbdlJ2jFoRqWkZCF2xEn//6F/w8R2BeJOBORpnj5dldykjGzt37UFg0CSVnmSC0tYZqAnAN1i7fhMumZJ4opGgzA8Rqow5a5KGBYuWmMenINKUvbLK6zd8FL6p9732Co+YbFMyyemmrJafD5mExZ5x1sZwxF8iO8ncLqZnqvTWrt2IKdNmmlTaHfXqNUDX7j2NkJIqZPfHamx5ii/nlE+kPi5uWLlqLZYsDcX//t9H6GxKWJHi3HkLzSfQRP3E+vjfn+obLZ+UlB2jNoTMC9liIrLz8vZRqdiPyZyQkPkjIWXty7LTfl2eVDwp2sNeuGiZqYrGo32Hzvj0sy8xY+Yc3Y8n12jbvhMaNPzJXMcXK8JWam9ORCjzTFaDl4aG4femzdG0WQsVb7iZbydNiSxJh70fXlvDEX9ZZudrPjW+r98Q7dp1go/PcPTs6fJG2cmbe/b8RfPGddE3T1akgidPU9l98+33+OW3Jiq535u2wM8m3f7JZIqR5tNt0+Yoyo5RKyLHiGr3nlj8/R//QoeOnbF9566KYzInZGHvWEIijhw7oVngK2WsEVGEycwamqxNVnKlHzfEc+grspMyVdo7Q7yGmnnymx6T+SitopNmjsi1pL8nVdJgD09zrl/wn08+R73vf8B0cw4ppSvfd20LR/wlsgtZsEj7B7LiFLfvkPbVJCNr1rz1K7KTXpz0FGT1Rz7NomNi9bnu/Qdh3cYILFi4VGXXs5eL+bSSVd3D5XHgsDn3QaRfymJmx6g1IdtEpBVT77v6Kh9ZyCsvF2+YbKpY/1t26zdQ2ziyQ+Fl2YkER4wcg39+/B/MnhOCuP0HdVVWeuR22Z1OPmdK0kRE796DmL1xOk9WhK1C23Yd0dzMrTlz5+scidt/CDuid2Nv3H7sMvNuzrwFaGzbDhMRuRUFZj46+h1qQzjirWT3t7//02RkTRG6ItxI51CVuJieoS+4HJeGqHzV5dDhI9pElTdXFiqOHkuskN1XX9fDIA8v7b3JSq28yd/X/wFjxgXiVPJZ7U9IX6GZyehmzpqjO84PHIzXN096eOcvXOQCBaNWhexWkMW170wWNdj8tx9hKhP5bzoiMgr9BgzG9w0aaVmZkHj6FdnJSq7fcH+dg9JfEyGuXrNe2z6ffPqFqYSm6+KGrOZKxidiE/mJFGXlttGPjbUdlJF1BUETg+Fhxshckr6efJNJEg3J8GSLlyQfju6/NoQj3kp2//e3f+DLr77VbEte0MqxK2Yv1qzdgP7mTRPhyUqq3/CRJmUv31fU1pS1u2Pi9NNMZCfnadmqnfYVPIZ4o6F5U2XVNnzlGn2x5c2W/zCkt9DepP1yDdmEKWVx8OSp+sZSdozaFFI+yo6FAQM9TPnZCX1d3bV/J/Op8S+/6Z9SXl7JLXxFdlKiylfLpBfXpWtPeA/zxaDBntp3+/d/PjNZ32icPH0GS5atQBeTWEg2J6usAYFBOgdlm8mqNeXl8Ow583TuyeqrZIby1c1WbdqpFCXTk7aSo/uvDeEIp2Unm4Obt2itX3FxFBs2btY0fd2GTfop1aRpC7QzL7iP3wi4uvXXLG6HEabITj6hRIqeXsP0k0n227Vu0173AskbJteTRuk5k71NmjwNXbr1RJNmLXWMp+cwLWdll7mk6bKC1KuPK86cS63Vn0gM60TMnn2YEDQZXc1/1/LfvswryfRkldX+vXNZ0BChyQKf7DoQAUmmNt7Iq2OnbmhuEgNZiZWEQsQ2zohNFi/sixQiTulxS5Ul80xWayWzlPPIRuZZs+bpGDlPOyNeySijTCn9rt97f9/hCKdl50yIqOwrO1K2OhpjDxGUvMDyZ3VjJWPLvpJvBFfg8DiDURtD/ruWeSJ/vmme2EPGyWKGxOtWTkVqslgh565uK4k8v/xcdWdeOeIvlZ28IfJiy59vehNrMlYelzesujeNwaiNUZP/9l+OynPhdc+xj3vduSufy9Hx2hiO+Etlx2AwGO8jHEHZMRiMOheOoOwYDEadC0dQdgwGo86FIyg7BoNR58IRlB2Dwahz4QjKjsFg1LlwBGXHYDDqXDiCsmMwGHUuHEHZMRiMOheOoOwYDEadC0dQdgwGo86FIyg7BoNR58IRlB2Dwahz4QjKjsFg1LlwBGXHYDDqXDiCsmMwGHUuHEHZMRiMOheOoOwYDEadC0dUkZ38O/gMBoNR28MRVWSXmZ3LYDAYtT4cUUV2jx8/YTAYjFofjqgiO0IIqatQdoQQS0DZEUIsAWVHCLEElB0hxBJQdoQQS0DZEUIsAWVHCLEElB0hxBJQdoQQS0DZEUIsAWVHCLEEbyW7Fy9eaDx79kzj+fPn5kE5UH6cEFINZo7Y58+bwhkeP36MkpJrOHnqFO7cuWN71DFybpm3zl6jOt7mft8HTstOxHb37l0kJ59BXNw+xMTswaFDh5Celo4nj5/Uil+akPdFWWmZzp19+/br/KkuMrOyypOIGlJWVobjxxPgN3wEsrOzbY++ioxLS0tDQkICnjxx/K+D2Hny5CkePHiAhw8fOpzX8pgcP3/+grnmZb1fkajIVuTrzP3/N3Badvfu3cPp00lw7zcAv/7WFA0b/ogWLVph7NhxyMvL11+SEOKY1IsXMXLUaDN3muDnX35D/QYN8cWX3+DzL77Wn+2xIiz8jTKqzLVr1xARsRmffPqFzs/qSE29iLlzQzB4sIeZy/dtjzrm+vUbuGjuV+T49OlT26N/IDK7dCkDI0b4I3RFmN7v7du3cfDgIRQUFH5wLnBadmkmgxvs4YmOnbogYnMkjh0/jgULF6Jd+46YMWMWiouLbSMJIS/z4MFD5OcXICMjA5dMrF27Dv1M4uDq1k9/tsf169edyoxqKjtJVi5fvmyyy2SHAqvM4cPxGD16LMYHTMD9+6+KUbK4sLCVmBQ8Gfv271e5paam4tt69REZGYWbN2/ZRn4YOCU7eXHi44+YT6NGmDdvPrJMqi0l7dmzZzF58hS0bNVGHyOEOEYEJhnQo0ePNKRkHTbMF0M8vSsek5C59nLpKHIRCYrMdu7chfT0Syov6QNWlp3M0fMXLiDWnFtKW5mj8lxBBHT+/HkcOXJE70OuI9ne6dOntfzds2evltnHjh03GeA8dO/eC716u2Bn9C69hv08cm9yn1LhLVsWqtc7e/Y8QkPD8K+PP1FBSoZ39erVivE5Obn62K7dMTh16rRmgXah3717D5mZWUhMPKm/o4yT3/HkyVO4devPkaZTspMXdseOnfjs86+05yD1v1BUdBVr1qzFfz75HCkpKR9crU7Ih8qhQ4fh5zcC3kN9bI9Uz+H4eMyePRdBQZMwZco0zboks5JqS0S0adNm/Ps/n2L4iFGYPmMmxo0PhK/fcIw3f0pZKaLKyMzEylVrMGlSsPbbJBtbtjwU/QcMxJix4+Dj46fSDA9fiWE+vmjarCVatGyDadNnaEZol529V9ejZ2/s2rXbHLui/ftR/qPx0T8+hpt7P6xevUbvTaQWGxuHUaZ8lxg+fKT+vlIJ5hoByj1ItitZ7oABg/RaU6ZMhaf5ABg8eAgWL15iJH3znb3ilOzkgus3bNT+woULKWp24caNm9i6dRv+9/8+QlJS0hvTY0JIOY5kJ1nQy3HrVqkpF6fAxcUVS5YsRVTUViOxCfD2HqYJiGRQmzZFaFbl4eGJpUuXY5WRzbjxAdoTPGAypdu37+CMqcKCJgajp5GUJC8yh0ePGYvv6/+AIUO8jFiW4sjRo9h/4ACmG+l07tIN3Xv0wubISJSUlFQIR1Z+F5v7EHlJJijZl2ScCxctMvfwHyPiMSq4rKxsPe7i4oaBAz0QErLAZILLtc/Xtl0HI9VVeu8ZGZlGwJNR77sGKvL16zfo2L593dGnT18cT0h45x6gU7KTX3blqtX64onl7VIrLS1FtElz/+d//44TJ058cI1JQj5UHMmuoKBAS1QJaQtJBSULAR5GRiKy9PR0lYusgC5fvgJ798bqc+yy27p1u5mTZSpJyb4a/dgYS41gZAGxOtl17NhFS9jKSCkpWZi/ySAr9+xEeHJvIsH1GzahsLBQH5d5L5Xdp599qVmmlMxS9a0ymeQ///VvUw0eUOHK8yVZ8vTyRvv2nUz5e05/v4nmvpo2a6F9f3uJHRW1Df37D9J1AS3Z34G3lN3XWt/bV4vkhd+5M7pcdomJlB0hNcSR7ObNC0Gv3n00hgzxRPyRo6bMyzeSmoSWpqT0N6VizJ49RiRFuG/KSSktq1ugkIxJpDTBlL4iyepkJ703EVhlqpOd/F0WL77+pp7K1O4BR7KT1dyJ5r5FuJIg2ZFsLsyUyjJWfj+5drDJXNu0bW8bUY707KQMHzBwEEptbbO3xSnZSQYnv4TITpaj7VK7ceMGtmyJ0jL27Llz7NkRUkMcyS7RJAzbt+/QkD5YXl6e9siuXMnBtm07MG5cADqYTKx581aYOm26Ljj8N2UnCwlS7kqWKb1AySAFR7JLSk7GyJH+ej0Rth1pie3YudPc7+fa/5dVXEeyS0lJxeTJU9G6Tbt3XqhwSnayuTAmZq8uUMTHx1fs1JYUOiwsHF99/S0uGgnaf3lCyOtxJDtp6Iu8JCSRkHknf5eyVYQk2ZJkVvPnL0TPXn2wcNES3cry35Kd3LOX11DtG8q92nEkO5FVQGCQyex+NpLMrEiExBkLFy1Ggx9+1BXj6jI7WRWWvuAQz6GmnP/jWm+DU7KTG5W0snmLVpgydZouN1+7dr3iDZPmaU5Ojm00IeRNOJKdIyR7k0WHDRs26YKglI5HTPnXuUtXBE+e8pfI7ujRY6ZkHgNPIzb7NhHpH65btwGuru66gmovYQXpscn1vvzqW10lln7d1avFWLtuvQpw3foNyDPZnWxWlmyuX7+B6Nd/oFaJ8jzp2f36axPt54lcpXcnm5Xd3Prp9pbKwn0bnJKdIHtlZsyYqS/gjJmzdad3oDG3rJhs2LBRbU4IqRk1lZ1kTGPGjMOgwUOwZs06LW9ly8hgjyFGJuu0RPyzZZdiSssZM2ehU6eu2GKyOOmzyZ7aOXPm6b3YV4rtiAylj9i2XUfNxmTRUkpvuffexg8eQzx1BVcWLMQZPXr2webNkZq1yn1KT7JevfpYuHCxKeF3Yrn8foM9MXCQh+7Le9e1AKdlJy/OlStX9Csvson4p8a/mheji+7/kbLWvg+HEPJmTpxI1K0WEydOtj3iGBGJ7LMbZTItWbH87femusdNhCCikHJX9rs1b9HaZEYXbM+CztVhPn6Yv2ChLirK19VkZdPHd7hmSjKfZ82arXv2pEyujPTod+/ejfYdOuk8P3z4iGZnss9Ptrs4QhwgEu7UuatulN4bG6vXSUpK1tXXZs1b4vffm6FvXzeTKK3UYyJM+R1k68m39b5XMUs5K9fsaYS4atVqvc93bY85LTu5oLzwcnFJp2W3s6S2Yt2XTU8IeT2SHMjcefTo9VmLzKunZqz076SklAxKMjMpI2U+6nFTRspCRuWEQ449NHNVriF//+N65fKQsP8sxysjx+T8IjDZXiLfxJCFCWlhVfe1UD2feY7IVxYU7P+IgFzX3nuUYyI5Obf9Huyya9W6rY6T59rdUnncu+C07Cojv4DEyy8SIeSvQSa8zDcR27tO/ppgl4xcT+a69OBkcaFyr84Rdje8fI/VPS6ysy9QyDG7mP9Mt7yT7Agh5M9ASmz511j6uLjaHvnzoewIIe8dKW3lHzDYuHGT7ZE/H8qOEGIJKDtCiCWg7AghloCyI4RYAsqOEGIJKDtCiCWg7AghloCyI4RYAsqOEGIJKDtCiCWg7AghlqCK7OT/rZzBYDBqeziiiuyysnMZDAaj1ocjqsjuyZOnDAaDUevDEezZEUIsAWVHCLEElB0hxBJQdoQQS0DZEUIsAWVHCLEElB0hxBJQdoQQS0DZEUIsAWVHCLEElB0hxBJQdoQQS/DOsnvx4oUGIaQGmKlinzNvCvLn4rzszHvw/Plz3Lt3D1euXMGJE4m4cCHFdpAQ8jpKb5Xi5KlTiInZg927Y6qNS5cu6Twjfx5Oy+7Rw0coyC/A0aPHEDJ/Abp174nx4wNtRwkhr+NiWhpGjxmHps1a4PcmzdGw0U/46qtv8aUJ+dke4StX4cmTJ7ZnkT8Dp2WXZt6s/gMG4auv66FJk2b47vsGGDbM13aUEPI6HppkoajoKi5fvqyxYcNGDDDzyc29f8VjEjdv3mRm9yfjtOyKi4uxZctWHDt+HNu27YCLiytlR0gNEYFJxvb48WONuLh9On+GeHpXPCZRVnYbmZmZOHw4HgUFBdi7NxZnzpw1j5fpOR4+fIiUlBTs2lVe9srfnz59WtHru3r1qraX0tPT9WdBjmVmZSHhRCJKS0srZCotKRkn1zhiKjYRrZzLjjxP/kFM+5jdu/cgNTVVW1oScq9yfWlpXcnJwbbt23WsnPdDwvky9lH5J5P8mZx8Bh4enpQdIW/JoUOH4ec3At5DfWyPlFNYWKhZX89efeDvPxo+Pn6IjIwyjxfpsQULF8HLayhGjRqNoea5EuHhq1QwIrFjxxKwYMEirFq1xnbGctFGRGzG6NHjjIwuqdBy8/LM81Zi7LjxCJ48BQGBEzBypD+OHjuG+/fv63NEsHJuf/8xGiNGjILf8BHYum077ty+g+zsy+Z+FsPVzR3+o8diqPHBvv37VZofEs4vUFTi7NlzlB0h70B1spNSdsbMWfj0sy9VPosXL9XMKSMj01RU29GyZRvt/a1cuRpLliyDpxFfp85djeSO4e7du4iO3m3OOxLBwVNtZyyX3bx5IejQoTOSkpJVdlFbt8LLeyhGjvLHlqitWLV6Dbp264EVYeHIzc1T0R06fBidOnXFuHEBerz8et7o0rU70tLSNenxNb/DDw1/REDABISuCDNZ5QW9jw8Jyo6Q98ibZFe/QSMtRx88eKCPi6Qkm2vRojWyTEn69OkzLXv37duPFi1bIyhoEvJMtlZT2ck1hnh6qdyKi0s0M4zYvFmFKmV0VlY2giZOwm+/N8P+/Qe0jZWZmYW169bho398rCWtLFb6+g5XSV65koNnz57ZrvhhQdkR8h55nexmzZqDX35touWkHZGaq6spF005ef36ddujUCHKPOzeo5dmWzWVXeSWLejr6oY+ffpqlnj+/AUtP6VNJeOlT9jHxVV3XcyfvwDr12/QmDVrNj7/4mstb2Nj4zDclLb9+g+0XenDhLIj5D3irOx27tyFzl26Y9GiJbrIYEfK24mTJqN1m/ZISUmtsezumXMnJJxASMh89Os3AI1+/Bm9jfhkIUJKWDkmW2GaNW+JAQMHw8fXT8N76DC4m/Hbd+zAgQMHKTtCyOtxVnayetu7t4s+59q1a7ZHYTKwMxgwYLAKScrMPXtijYBGYnzAH3tgX5adZG9SCl+6lGFkmaGPRUfvgpt7P+0HSnl6+nSSlqeS2e3atVszyMohpa88j7IjhLwWZ2UnZWZgYJDucZUe2o0bN3V1dvWatWjeopUuHly9Wozk5GRdWRVxXbt2XXt+kvFJb619h05GUEna61seugLLli1XqckYKWFllVdWVOPi9mvPLjh4Cn77vSmioraipOSajsvNydW+nvx89uxZyo4Q8nqclZ3ISL5q1sEISxYqwsLCVXCyFURkI3NSxpeUlOiig6zQhoaGYdOmCJPVzUfHjl3QoaNkdklaxi5ctFj3+MnCRmTkFo1Bg4botpXU1Iu6h07uUc4joly2PBQRmyONIEM1+7t8+Yr29eq87KQROnFiMKZOnW57hBDiDCdPnsL06bMwZco02yPl5Ofn61fGXN36VazE2hHhbdkSZcrZPmjatAXatuuo+9tkA7L9K2a6uGAyrnHjA3XlVvpuw3yGG5F5mD/9dFOwyK6oqEjF1aNHbzRr1lLPNcp/jGZ6UuYKskK7Y8dO9B8wULNHWfWVfp2I8fbt21oCz5w5y5TME3T8h8o7yU52Vssy84e61EzIh45IydEcss8tEZL9WxF27MdEbLdu3VLhPDU/y7nsY+VP+VnG3LlzR0PkJeezn9Mecq779x+gtLRMxfrEHK/uXLIocutWqZ7DPsZ+jpd/hw+Nd5IdIeT9UFPJ2EVVWV6OkONynteNq8n1PmQoO0KIJaDsCCGWgLIjhFgCyo4QYgkoO0KIJaDsCCGWgLIjhFgCyo4QYgkoO0KIJaDsCCGWgLIjhFgCyo4QYgkoO0KIJagiO/lnXhgMBqO2hyOqyC7rch6DwWDU+nBEFdnZ/2E/BoPBqM3hCPbsCCGWgLIjhFgCyo4QYgkoO0KIJaDsCCGWgLIjhFgCyo4QYgkoO0KIJaDsCCGWgLIjhFgCyo4QYgkoO0KIJXgr2b148UJDvnD77NkzPH/+3HaEEPIm7POnuoD5nzPcvn0bWVnZuHDhgs5HITs7GykpqSgtLdWfyVvI7smTJygpKcHh+COI2roN27Ztx8GDh5CefgkPHz6k+Ah5A/fu3dM5s3NnNLZt34HtJuTvsbGxOHnyFK6VXKv2X+5wRPbly9i0KQJz54Xg0aNH+tjmzZFYuHAR0tLS9GfipOxEZMXFxfpC9urVB82at0LrNm3h0tcNk6dMRWpqKh48cPwP5xFCyikoKECbtu3xQ8Of8MuvTdCiZWu0at0WnTp1gccQT00iCgsLy7O8GpB85gyCJk5Cr959cP/+fX0sOHgK3N3749ixY/ozcVJ2jx8/1k+k+vV/gK+vH06cOGHS5yyEhYejSdPm8PHx0zeSEFI9+fkFaNasJUaO9Mf+/QeQl5eHixfTELklCt2690DzFq2xes3aipL0TVB2NcMp2V29ehXh4Svx3XcNzIuYgLKyMk2bk5KSMcp/DFq2aqvyI4RUj112EyYE4cyZs5pESAvo5s2biIuLQ/sOnREYGITs7MvIzc01j+3DrVt/9N6kR5dgEg0R5J07d2osO6m6MjIysTc2DlFRUUhOPoO7d+5qj1DOmZaWjiNHjlacQ5DHz58/j9Onk/TvgpxH5vmOHTs15HlSmgvig8TERL23pKQklfnx48f12PvGKdndMy/CpUsZ2L07xojudsUnz/nzFzB2XABcXfshJydHHyOEOMYuu0mTgnURwY7Mp4yMDHTt1gPDR4zS/l1MzF707tMX6Zcu2UZB59iYseOwcuVqI8O8N8pOyuHS0jKTqKzCMFN9eXkP06zSxcUVy5eHIjsr24j2FvbujUX3Hr2QkZmpvXnh4sWLGGfm9tq161BcXKKxJWorvM05ZM4PG+aLoSYiIjbrYojE+PGB+viQIV4YOWo01q3foOd63zi9QPEyYnSRn6tbP6xYEYYbN27YjhBCHFFVdikqI8nupB++des2tG3XwcgrGGfPnjOSWY8vv/pWhWZHxNela3dMnjJNM7U3yU4WO3bsiMbAQR4qqVAzT9cbAfn6jUAPI7dNRlRXrxbj0KHD+Pqb77AzepdmmZKl7dm7F02aNEe0eUzmtvwp7SrvocO07JZy2819gJHzSMSbrPD69esqTOlD+g0fqfefcCJR7+l9806ye/LkqabCU6dOM79wP2RmZlWsBhFCHGOXnYfHEM2Y4o8cwb59+7Fhwyb4GQHJXNocuUV7ee8qu6NHj2mJPGDAYAwystuzZ69mkCJXKUXbd+ikGZqUnTJ/RVRTp83QDLOoqAgrwsr78VJO37p1S7O2rubasgtDBCkxZ26Iuef+mDtvfoXsBgwcjEOH4/VePhTeSnbySSQrs4WFRZhmXph+/Qca40fXePWIECtjl90XX36Nr76uh3rfNcAPDX/UFdmAgADtc4k0JNN7V9lJD076er+b7Ex6hJXLZmGIpxc8vYYizshWtpQtXbocffu6m4zwOBITT2KiyT79ho/QCk6uNdjDU1eSJTtct269RkBgEHr26oPxAYEVsptoMtNz587brvJh8FayE9HJLx88eQr69RuAsLCV+ulB2RHyZuyyk3JQkgTJqiTLktJRxCTVkX2b17vKTkrTgoJCNGzUGPPnL3hlt4QIynuoD3bu3KVzWBYbfvu9KSJNZiki8zIijIraqvck5WhfV3f8+NPPWsZKr05CZCl9wNDQFXVLdvImlJbexrx5ISYtHqKrs7IniBBSM+yyK1+NPaMisS8IVObatWva+P/0sy91scK+IOhcZndEV1F//70Zxo4dp31Awd4ndHPrBx/f4ZrJydwW2bq59Tel7HQjMh/0HzDIlNP5eu1UI2Xp+3Xr3hP7TPYpG5btIV8qEA/UGdnJCySfNuvXb0Qfl75YvGSp/qLyosmbJSEvCjM8Qqqn6gJF1bKyMlI9HT+egM+/+AobNm7S/tgNk/1F79qNRj82RlDQpDfKThYoRKZ+fiNVbLKCK+0nySL37o1DmzbtMH36TOTk5urzZDFj4cIluujQrl1HBBohy7yWOS0rtiKx7t17acYpYpNzy+qtlLzp6el1R3YPHz7CsePH0a59RzT++VdMmTpNl5U3mjfCHvItirt379qeQQh5mZrKTjKt/Px89OjZW1c7JbkIX7lKFxS+rfe97sWriexEYLJXz8e3fNtJSMgC3TkhJaiX91DExsZVfPNJkpVTp5JM9tYLnTp11XLWjtzP7t174GsyQVnwWLx4ic55+Zra8uUrzPNO1x3Zyd66mD170bxFq2pDfvmioqu2ZxBCXkYWAjw8vLBs2fI3bsKXxEG+Nys9MtmSInvwRFiysLBsWShycnK1ulq6bBnGjBlXIa3loWEmK5uoZbJkZZKdybYREZxs/pdzyTkOHT5c5R8LkLEizMmTp+rio2RrlZGSWMQ5xHOoCrtV63bo33+QfoVU9vLJiq3/6DF6b7In90PirRYoCCH/XSTjkrL2Xb97LueRhQiR6Lu0m+z3I+HMP1rwPqHsCKkFiJikjJR4F+znedfeeuX7eZfz/Deh7AghloCyI4RYAsqOEGIJKDtCiCWg7AghloCyI4RYAsqOEGIJKDtCiCWg7AghloCyI4RYAsqOEGIJKDtCiCWg7AghlqCK7O7de8BgMBi1PhxRRXbZV/IZDAaj1ocjqshO/o0rBoPBqO3hCPbsCCGWgLIjhFgCyo4QYgkoO0KIJaDsCCGWgLIjhFgCyo4QYgkoO0KIJaDsCCGWgLIjhFgCyo4QYgkoO0KIJXg72b0oD/uXbl+8kAcIITVB5oujsM8r8tfgtOyePHmCa9eu4fSpJOzYuRNbt23DwYOHcOlSBp4+fVr+phFCquXevXuIi9uHqKhtiIzcgu3bd2Df/gM4k3zWzK3rePz4sW0k+TNxSnbPnz9HcXExtmyJwujRY9Grtwu69+iJQYM9MHv2XJSUlKgMCSHVU1BQgDZt26PRjz+jabMW6NqtOwZ7DMHEicFGgFuRl5eniQP5c3FKdvKJEx8fjwY/NMLIUf5ITk5Gbm4uVq5chXbtOugnVGlpqW00IcQR+fkFaNasJUaNGo0DBw4iIyND/wwysmv0Y2OsXr1WqydBKiVJMl4OO/bj0k6SPytKYhv2nys/t/JxofIYe1vq5TF1Aadkd+fOHZWdp6e3Ed0Z/VkyucTEkxg+fCR8fPzMG+n4XwklhJRjl11Q0EScPXtOkwgpbQsKCzF6zDj0cXFFpKmehAcPHuD48QRcvJiGkydPITY2Tn+2U1BQiIOHDuv4Q4fj9TwiLTsyP6XikufFmtL50qVLePjwoe1oOXL9nJwc7Del9I4dOzWBeXlMXcAp2dn7dfIGyYtq/zQ5evQYXN36aWkrLz4hpHrssps0KRgpKam2R8uls2XLVrRr3xGz58zD/fsPcP36dYzyHw1Pr6EYOMgDI0aOwsaNm7TMPWQkNz5gAnx8h5vH/dF/wCDNDi9fuaLz8tatWzhw8KAmJxMmTNSxfn4jEDJ/gR6TMffv38eGDRv1vDJmwoQgcy1vRGyO1HK7LuH0AoUgL9L16zc0o5MG66TgyRgwcDD27NmL27dv20YRQhxRnewkecjIyET3Hr00w8vNzUNR0VV07tIVLVu1gb9JJjZtikBCwgnk5eXDy3sYfP2GY/nyUM3sps+YiZ8a/6p9P5mf58+fx0RzjW7de2Kjed7WrduM8AL1OadOnVZhSuIiAhSRbtu2XRcdh5kKLXjyFJw4kWi7s7rBW8lOXiRZfV28ZCn69OmL5i1aYegwXxQWFnEliZA3UJ3spE/26NEjzdCGDvXB2XPnKmQ3aPAQraCEsrIy7N0bhwY//IhFixcjPT1dszApc3/8sbEudMh5448c0ecNHeaDpOQzms2dPp2EzSZrk1JYKrWYmD06Zuy4AFy+fEXHJJw4oWOSkpL1enUF52X3ovwTSMrV6OhdmDp1Olxd3fXT48CBQ9rHI4RUT3Wyk4pJEgmpknx8/XAhJaVCdsHBU3DhQoqOu3r1KkJCFuDX35oiIHAC1qxZq7HEJB8dOnSC3/ARSDx5EqmpFzVD+71JU33+7t17tGcni4hyHZGrXH/EiFHo1LkbZs6ag3379uOKKYOlQpMxdYm3kt2L5y/w/NlzzeLsDVRJqaVvl5OTaxtICHHE62RXUnINvXv31ezs5s2bDmUn5a2//1g0atQYPXr2hrfJAiVkDkqWNnv2HCO6VCOrZyrGzZFbMHKkP5o0aa5bXSZPnooiU4XZ5ZqZmWXK3E0mAxymq8G//d4ES5ctR05u3ZrLTslO0ufTp08jPGwlSm+VaoYnyKfF5ClT0fjnX7W8JYRUz+sWKKT31rVbDyxZukxF5Eh2RUVFmGWysIZGduErVyMtLV17ffaQ80uFJauwFy5cUDlmZmZqD27GzFlw7zcASxYv1RVX2dMnczYrO1u3wJwwJaxki7IivGHDJr1eXcFp2cXExKB9+07azJRPDXlRDx06BI8hXro5Uup+Qkj12GUXEDBBFwqkT5aVlYVdu2Lg5t4fgYFBuvgnOJKdlJj7DxzU5GLqtBlGmCm6O+LmjZvYbc4hApW5ejzhBCYETVSByoLF3bt3sW79Bq3A5syZp7LbGR2NefPm65YTOS6VmvTie/bqY0S6Sq9XV3BKdtI8lSZov/4DdbVo2bJQrFq9xrzg0zHE0xsrV63GDfOCE0Kqxy47KUFFYqGhK7Bg4UIETgjSlVDpfdt3NTiSnWR8krX5jx6j/T3ZbhIevgqhK1boNpUjR45oXy7RzFUpX2XBY+nS5Vi7dr2R3ySMGjVG99TJAoX06OQLArLAGBa+Eus3bMTYseNVuLJ/ry7hdM9O3oQEkw5Pnz5TPyHkE0BeLNmCIp8mda2pScifjYhKVls7deqqXxuTxT1ZkJCM6ty585ph2bl+4wZGG6mFGZllZWXbHi1fJExLS8M0k9n16NFb9+bJ1zdnzpqlG4Tl+J07d7V09fYehs6duxlpdtPe3saNEZoJygKFZHKy0CiS7dCxs46RLwjIaq9kg3UJ5xcoKiFpsPQZ6uJXSwipLYiwpJ0kiYajuSiP3b17T+ervc/+MvK4HBfRysJFXeSdZCcviryQlB0h7w+Zh6+bi/JY5TGOqMmY2s47yY4QQmoLlB0hxBJQdoQQS0DZEUIsAWVHCLEElB0hxBJQdoQQS0DZEUIsAWVHCLEElB0hxBJQdoQQS0DZEUIsAWVHCLEEVWR39959BoPBqPXhiCqyu5yTz2AwGLU+HFFFdvZ/z4rBYDBqcziCPTtCiCWg7AghloCyI4RYAsqOEGIJKDtCiCWg7AghloCyI4RYAsqOEGIJKDtCiCWg7AghloCyI4RYAsqOEGIJ/hTZvXjxoiIIITVH5syzZ8/w5MkT/fP5c5lHtoPkT+WdZVdcXIwjR45i585olJaW6htGCHkz165dw6lTp7Ft23asXr0W69atx97YOOTm5ePx48e2UX8uDx8+xJ07d/Do0SPLJSfvJDt5Q3bt2o3effrit9+b4dKlS+bFfGQ7SghxhPwTRPfu3VPJjQ8IRN++7ujQsTNatW6LXr1dsG79BuQZ4f0VZGVl4Uj8UVy5csVyiclbyc5esubm5GLMmHH4xz//jZ9++gXp6ZQdIW/igcmuEk+eRNt2HTBixCgcO3bMluWdgo+PL1zd+mGrEWHlf5etcrlrL3k1M6uUnFUe8/Tp04ox9nj69BlWrlyFXr1csHFTBO7fv19+DovwTrKbNy8E3t7D0KVLN8qOkBoirZ+BgwZrFieV0YMHD1RM8mdy8hn07NUHk6dMw/Xr123PAO7evYvz5y9gx85obNkShbNnz+GRzLVKrpLS9MKFFBWlnDc19WJFuSql67HjCRg+fCSaNWuJceMDsG/ffpSWltmeXfd5K9lJ+SqfRl7eQzFr9hxMnz6TsiOkBoh4rlzJQYMffoT/6LE4d+6c7Uj5MSlvo6N34cCBg7hx46ZK8ObNm5g5azYGDR6CIZ7eGDrMF92798SKFWEV5W5hYZH2/AYOHIzxRmQiMx8fP52bksGVlFzDJpPNiWAbNvwJ7v0G6POvXi3W51sBp2Un6bG8sH7mE2JS8GTsN29KePgqyo6QGiCZlmRvH//7UyxdFor8/ALbkT+4deuWCk4WE27fvo21a9fDxcUNY8cFYOPGTVi/YaOWv506d9UMTsakpqYayQUiMDAI27ZtU2GOMz936dodiYkncf3GDZw5c9acYzxatmyjc/f48eOa8VkFp2V3w7xo27btQMdOXRETswcFBYVYuWo1ZUdIDbhz5y4OHTqkfe6oqG1GbKW2I68imV5hYSE6dOwCb28fI6cE7eNJuZuSkorGP/+KGTNmISMjQxcc1q/foKWuZHs5ObkIC19p5mkXLFq8FLdKy6+zZs1a9Onjis2RW/6yFd8PFadk9/jxE22sak9h8lRcvHhR0+Cly5ajUaPG+slRVnZbU29CyKvcvXsP8fFHVHabN0dqBvcyUj3ZQ1ZPP//ia8yZMw+XL1+2jYAKT0pZ6cFJL076d1eLrhoJpmi2J6Lz8xupiyABARMq+n+UXQ3JysrG7Nlz8PXX32L58lBs374DkeZFkxf8m2++wzKTlsuKkuy3I4S8iqyUSlYmsptusrLMzCzbkT8oKSnRJELKWUkg/vXxJ9qPkxVbOw8ePISX11BtJx08dFgXJmSxsGmzFvD1G46Q+Qu07JWskLIrxynZyQs6a9Zs/USRJXLpGwwb5ot27TriP598hv4DBuqbkpeXZ3sGIaQyUprm5OTg19+a6GKD9NPsSIlaXFyCsWPHY8HCxSgqKkJ29mV88eU3mDJlqu5jtY8rKytDq1ZttE8Xf+SIZok///KbJh9paWkounoVO3ZEo1//QZSdDadkJ6tDsnp0+HB8RUjfTpqe9erVx1ojunPnzluq6UmIs0jpKrsY2nfojCVLlmmPTcrS/Px83Qfn6uaOFSvCdWW22GR5Awd6oK+rOyIiInRxUPp4ERGRaNz4V4SGrtBSVyT3ff0fdFuKbG3JNQnH4iVL0aJla4wePbYiK5T9dbKPL3TFCl0AEflaBacXKF5GxMYFCkJqjqzIXryYphLy9R1hqqU5WL58BaZNn4EBAwZhytRpOH36tI4V4e3ZEwtPkwVKFTVz5mzMnTsPHh6e2j6SzFDGJCScMEJ008fmmxJ2Xsh8kzl6oUmT5hg0yMOUxVf1fAcOHjJl7ggMGuyBSCNGWaW1Cu8sO9nDExMToyl5bm6ueSOtlRoT8rbIxuAZM2fp3rf2HTrpVhKpkhJOnNBNxIJkXlJuynYSH5/h6Nylm34DYszYcbqFRRY8BMkAt27dBk8vbx0j2aB8FW3ipGDdc2cvY2WOSinbu3dfeHkPQ6bJCq3CO8uOEPJuSDkpi3oitdeVlfZvWUgm5wh5roSIUrLH6pDzSJIi57HSzgnKjpD3jCw4iHTssqoOOSZjJRxhf74cr+l5XjeurkHZEUIsAWVHCLEElB0hxBJQdoQQS0DZEUIsAWVHCLEElB0hxBJQdoQQS0DZEUIsAWVHCLEElB0hxBJQdoQQS0DZEUIsQRXZ3bl7j8FgMGp9OKKK7K7kFjAYDEatD0dUkd3z5/LvXDEYDEbtDkewZ0cIsQSUHSHEElB2hBBLQNkRQiwBZUcIsQSUHSHEElB2hBBLQNkRQiwBZUcIsQSUHSHEElB2hBBLQNkRQizBW8nuxYsXrw1CSM2Q+fLs2TM8efLkvcyfy5ev4MKFC8jPz7c98mZu3LiBc+fOIy0tHY8ePbI9+uHjtOyePn2K69evY9OmCKxavQarXwo5RuERUj3Pnz/HvXv3jGRSELNnL9auW4/w8JXYvn2HCkSO/bfYuTMaS5cux6FDh22PvJmUlBQsWLAIa9asRWlpqe3RDx+nZXf//n0kJSWhfoOG+L1Jc3To2LlKZGZm6ZtJCHGMzCGRy7Rp0+Hp6Y3effqiS5fu6NvXTR87e/YsHjx4YBv917Jw4WIM8/HDxo0RtkfezJGjRzHYwxMBgRNw7do126MfPk7LrqysDHFx+/B9/YaayZ0/f75KyBtJCHGMVD1SMrZp0w5du3bH2rXrTCl5GVlZWZop1fuuPmbMmKU/28dLmfv48WMtGaXcrZxMyHGptuyPVzdOsJ9Ljj98+NCMeaoZWmXZyRh5njxfxsn55DnyuB3LyO7atevYHLkFzZu3xLFjx/TFqBzM6gipHpGIlIH/+eRzzJk7z1RCmRWyunnzJoYN88Mo/9GIj4+vGJ+Xl4+YmL3YEhWFhIQTVUpHEVFq6kXEHzmK4uJiHDhwEBERkUhMPIlbt27ZRpUjYzMyMrFt23asM6Xz6dNJJpOc8Yrsbt++jRPm+XK93bt3Izc3V59rxzKyKywswvLloejcuSu2bInC0aPHzBtzVBudle1PCHkVSQZyjDxatW6LocN8ccRI6tHDR8Yy5TKSnl1aWpouAtwyUjtw8BD6DxiEkaNGY3xAoIpp9JhxSE+/VJFghIevQucu3eA/eixGm/AbPhLu/QZohpidnW27MrBj5054eg1D9+49MXKkP3x8/dCmbXv06u2ishOxFhYWIjAwyFzHF2PHjjfXGoshnl7YvDlS+/GCZWSXk5OLqVOno/HPv8J76DDzKTQGXt7D9I2QT53/ZnOVkNqIZGZLly1XyXgP9THJQ5gRyDGUlJRolifiE3Lz8rAibKVKcVPEZsTG7cPcuSHo69oPS5YuM+cp01Jz5szZqN+gEcaOC9BFjl27dqvwBg0egu07dqpgpXQWufXu44qQ+QtMprgHEUZgPXr2Rs9efbBh4ybcvXtX5/BQM68XLVqCvXtjTZa4Gb5+w+HS1w0pqal6LsvIrri4RFPgweaFDJwQpGmwvBlt23XACPNpUVBQaBtJCHGEZFA5OTmYFxKiWZurW3/N1pYZAcYfPmIyqBsqFSlLRTiHTUkrSYbE1q3bTablbeTjjqtXiytk16JlGxWYnFuIitqmWeAMc0wEGhcXh46dumDipMmaNdp7c/LzgIGDVXb37t1HcvIZ7NixQzPHoqIinDx5yshxIb7+pp4plY9oJmkZ2UmqLdmbvBDS5BSysy/rJ0697xrg/PkLVep7QkhVRDQSIo6LFy9i9Zo18DLl5a+/NdVV2T1GcLfv3FFxSel40ZS1+/YdwJo16zBhwkTNxpo3b6WJhV12UsampKRWzD0pf0eO8tcERM4TGhqGLl27mz9X6HE7lVdjRX6ywCgtqcTERCPMrZoF+g0fgY/+8S/s2bNXV4ktIzv7G2UP4cGDhzh2PAH/879/1zT61q3as/eGkP829rkjcrH/KZJJNWXib0Z4nl5DcfTYMV0YWLBgIX5o2AgDTAYoPbgpU6bpFhVnZRcSsgD9+w/UsrQylWUn93Dq1GmTJbZWMY4zZfG8efO1RWVJ2UlGtykiwqS7ybhjPn2EO3fuYv/+Ayq7qK3bcPNm1VUgQkg5skIqc0VKxzNnzpnqqPwbCCI82dbl6zscbu79TSkZrYt/7dt3RHDwZJ1vUtYmnDiBoKCJTstu3boNpoztikWLFlepvCrLLj+/AOPHB8DFxRU7d+7SxYorV65gZ/QufPzvT60nO3lBFi1eqrY/nZSsb5B83WTq1Gn44suvzSfS8f/ahkhCahvSAkpISDDZ2k8InjwVJ04kqgBlcUDmURcjrcGDPVWIIru27drrXMvIzEJJyTVEbolC12498NvvTXXRoSayk8fk612yICL9voSERL2eZI7lm5pdtWdXLrtA3f8XGxun9yUbnKU3/9E/PlbpyfMsIztZSdq3/6AuR0+ZOl0/GSaYF8PV1R1jxo4zL2CefkoRQl5FxCPV0aTgKSqesWMDMNeUikuWLMOs2XP02xRhYeHaN7t06RImTgqGq1s/TJs+E3Pmhhh5jULr1u1087FsRpa++ZtkJ6WyVF/Sf5NzyYKizNt5IfP1eT17uajspP0kGaWsvI4ZO1778FNMEjNwkAf+/tG/sG79Bu0hWmqBoqzstkl7N2HUqNH6wojoJNW+lJFRsWhBCHGMzCFZcQ2TbSVDfXTrR9++7hhnsioRSl5eecIgbSLpoYlURIJ9zTwLMFnebCNFFxc3HSeZnWxLCQqapCWnXXZnzpzFsmWhGnYuXcrQLSV9zLm69+gFH5/huhorm5tlM7Ks2t64cRNLly7TbSuyEOLnN0K3v8j1ZRuLyE0yUOnlrVy1qm5/N7Yy9sYq99YR8nbIHJIE4U1zSMpHEdu7IlmenEfaT6+rwGTRUdpRdnnWBd5JdvaVpNe9aISQ6pE5ZJ9Hr0OOy7h3pfL1Xnc++7jXjaltvJPsCCGktkDZEUIsAWVHCLEElB0hxBJQdoQQS0DZEUIsAWVHCLEElB0hxBJQdoQQS0DZEUIsAWVHCLEElB0hxBJQdoQQS1BFdrfv3GUwGIxaH46oIrucvEIGg8Go9eGIKrKr/G9YMRgMRm0NR7BnRwixBJQdIcQSUHaEEEtA2RFCLAFlRwixBJQdIcQSUHaEEEtA2RFCLAFlRwixBJQdIcQSUHaEEEtA2RFCLME7y64mX8AlhDhG5syzZ8/w5MmTV+bQjRs3cSLxJDIzs/DgwUPbo6/y/PlzPH361PYTqY63kp39DcrIyMD+/QewY8dOHDocry86IeT1yDy5e/cuzp07h53Ru7By5SosWxaKLVuikJp6Effu3dNx8vdJwZOxdes2FV91JJ85g23bdyAnJ8fMy+rnoFxXzl1WVqZytFpy4rTs5AV69OgRzp49iwULFmHUqNEYOdIfixcvpewIqQEinP3792PKlKnw8h4GV7d+6NGzN9zMn5MnT0FycrLJ5B7g+PEEdOnaHSEhC3D16lXbs19lS9RWjB07HqdOnXpthifz9vTpJOyNjVXhWW2+Oi07Sbfz8vLRu09fdOveU9+I5OQzuH79uuU+KQhxFpkj+fn5aN26Lbqb+bN+/QZcuXIF2dnZWLduPb6v/wOmT59pStfMKrKT5zx8+FDjZaHJfLxwIQW3b99Wgcnxx48fa4jg7t27r/P22rVrmDgpGJ06d9WsUc5lJeE5LTv5hJG0u8EPjbR8LS0t1RdSXjTKjpDXI3MlJSUF//7PZ5gXMl8lJ3KSkLnk4zscI0f54/Dhw1Vkd/hwvM636OhoZGVl2c5WzsWLaThw4BCKiop0Hso5T548icTEk4iPP4qwsJU4c+aseX40+vZ1x8+//I7Q0BWapNhLZivgtOxSUlLh6uoOd/f+WGc+lWJi9ugLffnyZcqOkDcgMsrJzUXrNu3h7e1jZHQEjx4+MikftA8uGZ30wm/evKmya92mHTp36YbBHp4YPmIUPIZ4mb97aH/vju3/a2HDxk3w8RmOEycSVZrbt2+Hn98I9OjRCy4urvDyGoo9e/Zi0aLFaNu2g2aPAQGB+titW7f0HFbAadnJp0X9Bg1NGt5OP4XGjB0PX/PCjhsXoJ8U9+/ft40khDiitKwMoSvC0Ku3C4Z4emPx4mWauRUXF5eXqLacwS67Dh07Y9nyUMQYOcnzBg32wMBBQ8z4Eh23eMlSdO3awyQdB/X5q1ev0YywT5++WLVqjZHaHs0Gjx49aq7nhWbNWyIqaquRaqb2Bq2CU7KTTx55Uz7+96do07Y9goOn6CrS+IAJ2geYMmWaKXOLbaMJIY6QUjbXZHcLFy0yWdoQuPcbgFH+YzXzOrD/IK5du64ZoMhORCdZmvT1pHLKNhXU/PkL0LBRY+Tk5OpjjmTn0tcNM2fO1r6cHenpTZk6DV279TDyy9b5bCWckp00O/fujcW/Pv4Ec+eGaNNUyM6+rH2FJk1bIC0t3VJNT0KcRQQlIQsIaWlpWLtuvZahzZq1ROfO3bB79x5dLa3cs7OvxpaUlGDNmrU6ByUzk7nmSHZeXsO0V1cZys4J5M2JjY3Dp599qdKThqogL6L8/D//+3ftQVgpNSbEGURyIigRjfwpPwuSSKSnp+O335pqX+6IKTkpuz8Xp2QnL+yx48fx3fcNMGfuPOTm5enjsu0kIiJSZXf06LEqqTMh5A9u3ryFuLh9cHXrrz3uh7I4YZC5JTLy8xsJN3Ns+46dlN2fjNMLFPLpI01O2QQp6XZhYSESEk7oxuLGP/+G1NRUy72IhNQU2fN24sQJ/NDwJ0ycNFmFJgK8c+cOzp07r71vDw9PFdefLTupuGbPmWtK5a44deo0nj75YzHECjgtO1kSl+0mrq794OPjh0nmDRvlP0Y/jRYsWKgbFwkhjpFEQMQ1ddoMeHp6w99/rC4kyNyZPmMmXPq66j5W+erXny07ubZsU+lpEpXxAYE6XnqDVsFp2cmLK59CG3Vvj59+k2Lw4CGYP3+RLp3LShMhpHpEOvJdV9kW4jd8JPq6uqNf/4EICpqEjZsidOFP5tnFixd1h8O2bTs0yRCkT75v3370N+MLCgp13K5du3Tc2bPn9Nz79u3Tr2/Gxsbqcypz/sIFk93NQ/8BAxG6YoXOWavgtOwqI2KTfXVckCDk7RBZSY/7v7k/VeatJCyyKCLXtwrvJDv7Erp9RYkQ4hzvYw7JtURy/+3rvm/eSXaEEFJboOwIIZaAsiOEWALKjhBiCSg7QogloOwIIZaAsiOEWALKjhBiCSg7QogloOwIIZaAsiOEWALKjhBiCSg7QoglqCK7stt3GQwGo9aHI6rILje/iMFgMGp9OIJlLCHEElB2hBBLQNkRQiwBZUcIsQSUHSHEElB2hBBLQNkRQiwBZUcIsQSUHSHEElB2hBBLQNkRQiwBZUcIsQSUHSHEEjgtuxcvXrwxCCE1Q+bLs2fP8OTJk/c6f54/f46bN29i9+4YFBQU4vHjx7YjdQenZFdcXIKDBw9hyZKlr8RiW1y8mIb79+/bnkEIeRkRy507d5CcfAbbtm3H8uUrsHDhYmzcFIELF1Jw967jf4/tr0SEm5aWhl69+uDo0eO4ffuO7UjdwSnZZWdnIzx8FdzdB1SJXr37oHmLVvjk0y8QE7MXZWW3bc8ghLzMvXv3sHdvLIKDp2DoMB/0HzAIfVxc4d5vACZODMbp06f/6wnD06dPkZh4En//6J/Yvn2nyfJu2Y7UHZySnaTa8kbdulVaJeTTaP78Bfj55980s5NPLkLIq0iZmpeXh1at2qBHz17YsGEjcnJycPnyZf17gx8aYfr0mcjMzNRs6+HDhzrvpKwUAUrIzy8jc84+P+/evYdHjx69Mg/lZzmPfYyMt49xJDu5V3lcrln5fPZryTkk5Jz2Y/Ic+fmhGS/PefDggV7vfZbodpySnf2G5RerHMeOHddPp9mz52qp+75/KUI+VEQSKSkp+PjfnyLEJAgiOZGaxO3bt+HnNxIjR/nj8OHDKCkpMX/GIzMjE+fOnTcS2oEdO3aqCF9GpJKVlYVNmzZj/fqNSEpKNhVWme1oOVIey3kiI6N0THp6uj5PcCQ7mduFBYWIjo7W80npLYi8pOSVc0icP3++4piITn6/4wkJOJGYqBmsXE9+v1olO0fcuHEDK1etRtt2HfQFePDgoe0IIeRlRCC5JrOT+eLlNVRl9ujhI5NJlB+7fPkKsrMvo7S0VHt6AwcNxmCPIfD09FYRDho8xCQWAxGxeXOFYIqLixERsRnduveA3/DyMS4ubipTEaac9/r165gzZx4Gm2MjRozCuPGB6NXbBUuWLjXyzHpVdjdu4qT5OShokrn2UCPSbM3UZPFC5nvPnr0x3Jxn4CAP9OnjitAVYeoCuaewsJWa/HTt2t3chysmT56qEqz1sjt+PAGBgUHw9RuhnxLywhJCqkcyrvCVK7XXPWjQEMyfvwgHDhxSaT198lTFJ8jcatO2Pbp06Ybw8JXYt2+/ed4qeAzxxICBg7WKkowpOnqXynCU/2jExsUhZs9ejBjpb8Z5aSYoY86ePYdJwZMxa/Ycc62D2L//AAInBMHNvR9iYvaojCrLLi5uHyZNmqzi3Lx5i2adkpWKVOVaAQGBOHDwkD7Xy3sYfHz9sDc2TsdJhdeiRWv4+PiZ8RFISDhR+zO7B/cfYNmy5RhiXtTtO6IpOkJqgEgjLz8fS5cu0+xOsqCRo0YjJGQ+YmP3ocRITOaSyK5Dx84YbrK1K1euqCyk7J2/YCEaNmqMnJxckwGWYdq0GWjdup0pYSOQkZGhmeGixUvQ19UdE4Im6rkuXcrAPiO45DNnUFR0VeUnGdrvTZqrSKU0Fdn9398+MkKci2FGVCI6ydJEYHIOyTbHjBmn8o2K2qrXkRCByrXkT7vsupisTu5HssEPhXeS3aX0Sxhl3qRhw3zZqyOkhsg8kRDpSd9sw8ZNprT0R6vWbdG5czfN1EQsIjuRRkjIAly9elWfK2XpmjVr8a+PPzFiy9SQLO7X35pg4aLFCA1dgRWmpBTJiYCGjxip15KqS8rVY8ePY9v2HVhsZChjvq1XHwsXLtLriez+3//8TbPJet/V196h9AHtpJn5LgJs2aqNylSuIyElce8+fRE0cVKF7AaazHPPnljbMz8M3kp29jdrRVg4vIf66AtMCHkzMm+kPyYZT+XSTn4W8f3+ezMtP48cPVoj2SWePKnjv/v+B1NODjXzcZjOSQnp30n2KNeRHROytaV1m3bwHz0WixYtwew5c1G/QcNXZPfFl9/gm2+/V1lKGSxZndznMXM/Ln3d8ONPP9uuVX4dCenfrV69pu7JTn556TtI32C0SWtlhYcQ8mZklTM2NlYzodOnk/FQFicMMqekuS+LB25u/bVvVhPZXTJlq2R27Tt00vFFRUVaZUnIWJGY9ONmzZqD/v0HYuXK1bh27ZqGrLA2a9ayiuz+72//wNx5IZptDvPxNYLsrwuPIuh0k9nJAofc+8mTpyquU36ta+qEOic72fuza9du/aUlq3sfO74JqY3InrXExEQ0+OFHTJgwUb+tcOPGTRXd2bNn0bFjZ3h4eOqCRU1kJ3KRb1+I7ObODUFubq5eIy0tXRchREoiu/nzF+rKqJSd8rUw6QFKj00yQpGbrNaK7P7293/qVhHpxUVsjtSERhY+5Lqyp3bq1Ol6T0uWLFOxSnl8/sIFvdaZM2frluzkE0heLE2T/UYgPj7edoQQ8iakpJRV15km05LFCcnKphiByLYQEYmrm7vKTKRVE9nZt4xMCJqkW0DGjw/Uc8lKqkjw9OkkHXPkyDEta2UldcrUaQiePEX7eV9/U0//LvKT81TeZycLIPJVtnbtO2K1uebVq8W6VWbcuAC4uvbT1VwRrPTqli0L1QqvTslO3izZTyO/8Nat21BYWGg7QgipCeVz6CbWrl0Pf/8xuho72GRzsh9tc+QWFBQUaFKRlp6OGTNmYefOaJNVlX99S8rNgwcPavZXWFik42QlVaQ2KXgK3Nz76/mkL7d123b96qb02+7cuYtt27fraqp7v4H6NbWNm2RhZJS5j3UqV1mxFUmdOHFSx8u55bFp02dgXsh85OfnaxUnXyIQubq6uuu1xowdr1tQ5Pu0klXK930XLVqs+wQ/JN6qjCWE/DmIUKQtJJJ4V+Rcch4JWel1xKNH8rWzB5rt2RdH3gYRtv1acq7aAGVHyHtEhGOPd6Xyuao7X03G1IQ/6zz/TSg7QogloOwIIZaAsiOEWALKjhBiCSg7QogloOwIIZaAsiOEWALKjhBiCSg7QogloOwIIZaAsiOEWALKjhBiCSg7QoglqCK7srI7DAaDUevDEVVkl5dfxGAwGLU+HMEylhBiCSg7QogloOwIIZaAsiOEWALKjhBiCSg7QogloOwIIZaAsiOEWALKjhBiCSg7QogloOwIIZaAsiOEWALKjhBiCd5Odi/K49mzZxrPnz8vf5wQ8kZevHjx2iB/DU7L7smTJ7hx/QYOH4rHypWrsHjJUmzYuAknT57CgwcPKD5C3sDt27exfsNGLFy0GCEhCzB/wUIzj5Zh7dp1OH48AbduldpGkj8Tp2V3/fp1bNu+A8OHj8SQIV7l4emNceMDkZh4Evfu3bONJIQ4oqCgAK3btEOTJs3RrVtP9Os/EO79BmgMHeaLQ4cOGyE6/gcoydvjtOzOnTuPTp27oo+LKw7HxyM3N1czu7btOsDXbwTy8wtsIwkhjpA50qxZS/j7j8Hhw/HIy8vH+fMXsG79Bnz3XQNNHORnwV7aPnz4EHfu3DFxF48ePXql5JWKSh4vK7utmaP8XUKSDznG8vgtZCdpdr3v6mNFWDiKior0hbxwIQUBARPQomUbZGVl2UYSQhxhl93EiZN07sgcevbsucqsv8nyPEy1tG/ffh0rknr69Km2iTZs2IQtW6KQkpKqvfLKArt7964R5HmEha/E2nXrTVJyToUZs2evnpftpbeQ3ZkzZ9G+QycETphoxJatL/iJE4kYNMgDnp5e5o3Mt40khDjCLrtJk4JVXDKHpBdeUFBoEobW8B89FqdPJ6mgSkpKEBgYpKWutI5GjBiF/gMGIShoIm7cuKHnk9ZSZGSUlsYdO3WBj68fhvn4omvX7nDp62Yyxzw9v9VxWnZXr17FqlWr0bNXHxXe7DlzMXKUv74B+/bt008RQkj12GXXs2dvTJ4yFaErwjB3bogRlJ/Oq23btqvApHS9ePEiPDw8sWx5KA4cOIj9+/dj1qw5+PHHn5GUlIwHZkxScjKCJgZr/y8ycov2/NaZ7K6vqzuaNW+Jy5cvU3YGp2VXVlamKXaTps21d9e9Ry+0adsefVz6IiMjw7xBj2wjCSGOsMtO5o2X9zCMDwiEl9dQNG3aAt2798KevbEVfbdck5VJ6XrJzK0rV3K0Zy67ID7+96fYaqR448ZN/XPQ4CGYOy9Ed0RIpih9wKnTZlB2lXBKdvIiXr58BVOmTlPJTZ8+E8uWLcfYcQHo1dsFa9eux82bt2yjCSGOsMtusMnYZLtJfPwRxMTswfz5C40AO2Da9BmmvC3v5d2/f19LXRkjWdvy0BU63/7zyecID1+lpe+Spct0Pook7VIrLS3DokVLKLtKOCU7ecEklf7q63rYtCkC165d08cvXcrAlCnT0bjxr/r3yo1TQkhVXu7Z2ZFMbvLkqVp+itjk59TUVLRu3U6rKP/RY1RskmR8+tmXKrsrV65gxoxZ6NCxM04nJelihlBaWoqFCxdTdpVwSna3bt3CpojN+PyLr5CQkFCxp05WZSW1/vtH/9L+gf0FJ4S8yutkJ9ld5y7ddD5J1hYaGoYffmiEuLh9mlxIeSs7IiThCDdjCgsLdXOyLE5s3BiBx48f67kou1dxSnbSMI01L/q39b7XJqlkcdLDO378OHx8/PDjTz8jLS2dy9yEvAa77AICAnHq1GkVmCQMsrDQo2dvuLr1w65du1FcXIz16zdocrFjx06VXXp6ui5m/OvjT7B06XI9lxzr6+qGwYOH4Oy58/oNDDnXoEFDKLtKOCU7kVhmZiaCgibBz28EJgVPxnSTQsseOx/f4Vi0eKl5Q67bRhNCHGGXXbv2HTVJkHkUbEIyPS/voVizdp0KSvp1ycln0KVrdx0XNHESJpox8q0lyexkASI7O1v3ti5evAQdO3aB91AfM2Yyxo8P0C1ilN0fOCU7QVZ7JKNbs2atNkrL36wp2Lp1u/kkKuGLSsgbkP1xwWbOyEqsZGOyiVj2z0nZGRcXpxmdbBoWZCtXxObNZq6NN+M8NbGQ76PL3jvZZCxfPZPSNTX1olZbAwYO1nOOGTtOFw2bt2ilpS7n5VvIrjLyIkvY3xhCyF+DyEraSPaeXGUkA7x2/TpKTLIhpa701o8cOQJfU21J/0+Os7X0jrKTVVd7EEL+Ol4315KSkjBz1myMGTNOv80k+2BHjfLXb1PI6i7naDnvJDtCyPtHFjiOHTuGgMAJurm4Tx9X/VP2wGZlXbaNIpQdIbUcKVGldJWvj+2NjcWu3TGIP3IU8gWAJ0+4DcwOZUcIsQSUHSHEElB2hBBLQNkRQiwBZUcIsQSUHSHEElB2hBBLQNkRQiwBZUcIsQSUHSHEElB2hBBLUEV2paW3GQwGo9aHI6rILr/gKoPBYNT6cATLWEKIJaDsCCGWgLIjhFgCyo4QYgkoO0KIJaDsCCGWgLIjhFgCyo4QYgkoO0KIJaDsCCGWgLIjhFgCyo4QYgkoO0KIJXgr2b148ULjyZMnePr0KZ4/f247QghxFvt8elvu3r2LixfTEBu3T+dkdSQlJeHUqdO4ceOm7RHnycjIRGLiSeTk5NoeqT04LTuRW0nJNURGRmHu3BDMmDkba9asxdmz5yg9Qpzk9p07iD9yBGHhK5GVlYXHjx/bjtScoqIibNy4CUM8vXH//n3bo68yf/5CzJ0XgrS0dNsjzrN9+w6d8wcOHLQ98tfz5MlT3L59G2VlZa+V+ZtwWnYlJSVYv34j3N0HwL3fAPRxcUVfV3dMmjQZ+fn5b/VmEWJVUlJSMXbcePzy6+9YuXKVTmpnuXLlCmbPnoufGv+qWV51+PgOh/dQH83u3pZly5Zj0OAh2Lx5i+2Rvx7JRA8ePIQ9e/bi+vXrtkedxynZPXv2DCdOnMBvvzfF8BEjNZ1NTk7GtGkz0KRpC6xduw43b759ikyIlZDSNSIiEj179VHZ9XFxQ2FhYZUKSf5+9+49PHz4UOPOnbsoLS3Vv9vHOZKdzNUHOv6OZkNyLUeyk3M8ePBAs6ZSEw8fPnpthWaX3cZNEbh37x5u3bqlz3306NErpbjegzm33K/9nuWxl5FqUc4lY8rKbmvCZL8HOa84xtfcuyRXiSdP6T2+TdnvlOzkU2fLlih89vlXOH48QV9YueiJE4kYMHAwevTsrS88IeTNiIQmBE2CS183BE+eik8+/QJnzpzVCW5HytL9+/fjwvkLOHfuPHbH7MHadetw9uwf4xzJTiSXfOYMonftRkFBgQrFkexkvPwsZfC69Rs006x8/Zexy07K7oOHDmH58hVG2Ju1NH7xvKqARIQnjZwkCZKsVe5f7utlpFo8ZM4l7bCIzZFaztvvIT39EhYuXIROnbqiZcs2mD1nrt6j/D7O4pTsioquIjQ0DF99XQ/Z2dkVF5Sm5fQZM9H451/N3zP0MULI6xFheXkNQ+CEiTh2LAGtWrfD0mWh2g6yU1xcgsGDPeDm1g/9+w+El/cweHp5o03bdioBWSh4WXaSJYlcPL2GYsGChSoOyZQqy04yrBs3bmD8+EC4mIxSBCbRsmVrREVtxbVr12x3UBWRXctWbdC2XQcdL/fTuk179B8wCDt2RNtGAZcuXUJQ0ER07NRFEyFXc/+tWrfF4sVLcPnyZR0jGZzIfbCHJ7r36KXn6N2nL1q0bIVIk1SJBBNPnoT/6DGmcmyuv5+Prx+OHjv218tO0kxJuz83mV18/JHyTxEjc7FvkPmE+vqbesbwabbRhJDXERq6Aj4+fppR5eXlYVLwZAwwE15WTe1IgtG5S1d07txVFxgOH47HLpOtyaSXjFAyJ7vsGv34swpMMqkhnl4ImhhssqlzWn29XMZKlbbUiEsEOi9kgZ53x85ofZ7cQ+XsrzIiOxGdCOrAwYM4evSYeSxUnzNmzDiVkMS06TMw0Ehu5qzZJms7bLLTAxjlPwbu7v2xYcNGFbAI1ct7qEpzeWioyRQPG9Fug4c5t8jxsHGMlPU7d+7UErZrt57YYkR89erV15ba1eGU7MTEx44dN+ZtrbbdtXu3/rwiLBzduvdC/QYNkW6MTgipHpmokn3JpJas7vTpJJWPyKNpsxbYunV7RTlql523yaASEk6otKRhvzlyC379rSni4vaZKuuyyu6bb7/Hpk0RumA4blyAtpoq98gqy06E0aFjFwwa5KECuXQpQ8Upq7UNG/1kBBPtcOVTZCeLkosWLbE9AiOkIgQHT9GsTKQtq8Odu3TDqFGjceFCio6R31kSpO7GE+MDJiA3N0/L2q+/+Q4h8xfgSk6OjpOe3a5dMVolSqkspbBUi/5GlCJF2WLztjglO0FS7PkmNe5kPmlkkSJwQpBJs4egWfNWJp1thyxT3hJCqkca7CIBEduYsQFawkof6siRo2jY8CdMnTpdW0OCXXYiE7s4ZJFCMrF63zVQKUmPa9asOfjnv/5jBNYZjU25t3Ll6lf6Y3bZycKiZIMiGlc3d83CRGILFy3W7PKnxr9ob16E/DL2nl3l1VgR6tKly9ClS3fN4I4fL0+I5s2bX7G6LJKWlVQpVaW8PmZEvGt3DD797EtER++q2DIjghVZyoLN9BmzzH3mvD/ZiaHlUycmZg/mzJlnavClWLEiHBNNyiy1ea4xOyGkem7dKtWSVKTStl1HeAzx0hhosqwGDRqhV28XnV8iCGdk9/eP/qX9NGknBQYGqRgql3t22Uk1dv58Cv79n8/Qtm17vfaIkf5VoqJN9RJ22Uk7y45cQ3qE3UyZKYsVO428RHYrVoRVZIfyu4jQRHSyH1A2QK835ewXX36j17JnoPKnSFo+CCZPmYaMzMz3Jzu5afnlHjwoX9YuLS3TtFNWYteuXc+tJ4S8gYKCQu17SV9q6rQZCAsL15AenlRKzZq3xIIFi7Sv5Yzsvq/f0GSIKVp59erlohlb5X17dtlJuSplpGR2IhHZTSHzuHI8qmYLiiPZyTVmmCysS9fuSL14URcdRLrBJku0L7aIN1JTU3Wbjf/osZq5ShYoK9DSY7Tvn5NsUu6vUaPGutJ78+Z7LGMFsa/cnDQnFy1eos1KSU/z8wu4qZiQ1yAJgmyQ/eLLr7HGTHJZtZQmvIRsEblkJrabe3+MNNmViKvGsps9RxcoZBExNzcXU0xW5N6vP1atWq2ikajcs5P5O9T8vUePXggPX6XXlv180kdbvXqtnlOe8zIiuzYmG5TziMhERtG7dulihGRtIqvbt+9oj1EWI9avX689PenlzZg5E92699QVZ8nypJSWzNbLPE82DMtrICvUspDRzjy+d2+syQyf6uqt/P7S70tOPlOlD+kMbyU7+YXmL1hg0t1RuvQcNHESYszNyk04eoEIIeVcvnwFs+fMw6+/NcHppKQqiwAyd2QOyQqmxxBPLfNqKrvKW08kI5PN/+PGB2r2KD062dxbWXbys5SPfn7DNVGRBUcpG8eOHY8lS5bp1rLqZNe+Qyc9r3xrKsCUy7IqPGiwh+7Vk+dIxMTs1WxMVmlHm0xu9JhxRuL9MGfuPBWqjBGPbNiwCZ6mrJVV4NFjxmLEiFG60CFb3Ozfv5VV28gtW9C6dTsMHz5S7/t1ewGr461lN3PWLG2krlq1RpfKZbnZ0YtDCPkDKR/XrFmnq5myIuqIY8ePIyw8XDOmWyZTCwmZj23bdpjsqLwklBbSxYvpGB8QaOZeMoqLi7XZL/KRbykIkjnJlo+p06abTPKg/rx23XrN2mT1VoQoVVhcXBymTJ2mmZhsg5FziAwdbf4V9h84qNWcrJQGBE5QUfn6jTAZXPn2GTvyfFkpllJWMjcRbUjIAlPKXqyo/uQedDvb5kj9XeQepMSVrSyS5dn30snvJPKdau5z6DAfREfvVlk7y1vJjhBSd5BsUuQhSYwzSHIj/bpHjx5Xm+hI5iqiFcE56gHakeNyD462uwhyfnm+ZK52oTsLZUeIxRGR2MMZKj+vuufWZIzwpjGVj1c35k1QdoQQS0DZEUIsAWVHCLEElB0hxBJQdoQQS0DZEUIsAWVHCLEElB0hxBJQdoQQS0DZEUIsAWVHCLEElB0hxBJQdoQQS1BFdrdKyxgMBqPWhyOY2RFCLAFlRwixBJQdIcQSUHaEEAsA/P8qqI5CmP/a5gAAAABJRU5ErkJggg==)"
      ]
    },
    {
      "cell_type": "code",
      "metadata": {
        "id": "8IvCzPOlkp0T"
      },
      "source": [
        "# Importamos las imágenes\n",
        "from keras.datasets import fashion_mnist\n",
        "\n",
        "(train_images, train_labels), (test_images, test_labels) = fashion_mnist.load_data()\n",
        "\n",
        "# Creamos vector con las prendas\n",
        "class_names = ['T-shirt/top', 'Trouser', 'Pullover', 'Dress', 'Coat',\n",
        "               'Sandal', 'Shirt', 'Sneaker', 'Bag', 'Ankle boot']\n",
        "\n"
      ],
      "execution_count": null,
      "outputs": []
    },
    {
      "cell_type": "markdown",
      "metadata": {
        "id": "opyZVSAIDJND"
      },
      "source": [
        "\n",
        "- Estudiamos los **datos de entrenamiento**\n"
      ]
    },
    {
      "cell_type": "code",
      "metadata": {
        "id": "DbHjZJhUlZE9",
        "colab": {
          "base_uri": "https://localhost:8080/"
        },
        "outputId": "138861af-e9a7-416e-d3fd-9e22eb4bc9f2"
      },
      "source": [
        "print(train_images.shape)"
      ],
      "execution_count": null,
      "outputs": [
        {
          "output_type": "stream",
          "name": "stdout",
          "text": [
            "(60000, 28, 28)\n"
          ]
        }
      ]
    },
    {
      "cell_type": "code",
      "metadata": {
        "id": "m6dzO8pdFCG1"
      },
      "source": [
        "# Vemos la matriz de la imagen 50000 de las imágenes de entrenamiento\n",
        "train_images[5000]"
      ],
      "execution_count": null,
      "outputs": []
    },
    {
      "cell_type": "code",
      "metadata": {
        "id": "ke8WXI0vEpvM"
      },
      "source": [
        "print(train_labels)"
      ],
      "execution_count": null,
      "outputs": []
    },
    {
      "cell_type": "code",
      "metadata": {
        "id": "aQPGl4TkFG5k",
        "colab": {
          "base_uri": "https://localhost:8080/"
        },
        "outputId": "7e565264-012b-467a-9f45-340495b927c1"
      },
      "source": [
        "#Sacamos la etiqueta de la imagen 50000\n",
        "train_labels[5000]"
      ],
      "execution_count": null,
      "outputs": [
        {
          "output_type": "execute_result",
          "data": {
            "text/plain": [
              "4"
            ]
          },
          "metadata": {},
          "execution_count": 129
        }
      ]
    },
    {
      "cell_type": "markdown",
      "metadata": {
        "id": "uX5nYOvl34xT"
      },
      "source": [
        "Imprimimos la imagen 5000 por pantalla utilizando matplotlib, y nos damos cuenta que corresponde con el elemento 4 de nuestro vector, es decir, un abrigo."
      ]
    },
    {
      "cell_type": "code",
      "metadata": {
        "colab": {
          "base_uri": "https://localhost:8080/",
          "height": 265
        },
        "id": "i8fB_vCimGO4",
        "outputId": "29f584b3-71d8-4483-88df-8fad3e53d994"
      },
      "source": [
        "import matplotlib.pyplot as plt\n",
        "digit = train_images[5000]\n",
        "plt.imshow(digit, cmap=plt.cm.binary)\n",
        "plt.show()"
      ],
      "execution_count": null,
      "outputs": [
        {
          "output_type": "display_data",
          "data": {
            "image/png": "[encoded data removed]",
            "text/plain": [
              "<Figure size 432x288 with 1 Axes>"
            ]
          },
          "metadata": {
            "needs_background": "light"
          }
        }
      ]
    },
    {
      "cell_type": "markdown",
      "metadata": {
        "id": "Z0HH3T-6E7lo"
      },
      "source": [
        "- Estudiamos los **datos de prueba**"
      ]
    },
    {
      "cell_type": "code",
      "metadata": {
        "id": "pRBG6B5cE8O6"
      },
      "source": [
        "print(test_images.shape)"
      ],
      "execution_count": null,
      "outputs": []
    },
    {
      "cell_type": "code",
      "metadata": {
        "id": "aJi4sf8bFE9A"
      },
      "source": [
        "# Vemos la matriz de la imagen 8000 de las imágenes de prueba\n",
        "test_images[8000]"
      ],
      "execution_count": null,
      "outputs": []
    },
    {
      "cell_type": "code",
      "metadata": {
        "colab": {
          "base_uri": "https://localhost:8080/"
        },
        "id": "P5ieGjtRFNyw",
        "outputId": "42957420-1bdb-413e-cba1-d3eb0a434ab8"
      },
      "source": [
        "test_labels"
      ],
      "execution_count": null,
      "outputs": [
        {
          "output_type": "execute_result",
          "data": {
            "text/plain": [
              "array([9, 2, 1, ..., 8, 1, 5], dtype=uint8)"
            ]
          },
          "metadata": {},
          "execution_count": 133
        }
      ]
    },
    {
      "cell_type": "code",
      "metadata": {
        "colab": {
          "base_uri": "https://localhost:8080/"
        },
        "id": "kl6a9LjNFQo-",
        "outputId": "a1eff7cf-b170-42b3-84b5-270ee976489b"
      },
      "source": [
        "#Sacamos la etiqueta de la imagen 8000\n",
        "test_labels[8000]"
      ],
      "execution_count": null,
      "outputs": [
        {
          "output_type": "execute_result",
          "data": {
            "text/plain": [
              "7"
            ]
          },
          "metadata": {},
          "execution_count": 134
        }
      ]
    },
    {
      "cell_type": "markdown",
      "metadata": {
        "id": "DJyukMImFsmT"
      },
      "source": [
        "Imprimimos la imagen 8000 por pantalla utilizando matplotlib, y vemos que corresponde con el elemento 7 de nuestro vector, una zapatilla."
      ]
    },
    {
      "cell_type": "code",
      "metadata": {
        "colab": {
          "base_uri": "https://localhost:8080/",
          "height": 265
        },
        "id": "Fsnv_tgzFh3V",
        "outputId": "4bec907c-0778-460e-f6ff-ef480c6037b5"
      },
      "source": [
        "#import matplotlib.pyplot as plt\n",
        "digit = test_images[8000]\n",
        "plt.imshow(digit, cmap=plt.cm.binary)\n",
        "plt.show()"
      ],
      "execution_count": null,
      "outputs": [
        {
          "output_type": "display_data",
          "data": {
            "image/png": "[encoded data removed]",
            "text/plain": [
              "<Figure size 432x288 with 1 Axes>"
            ]
          },
          "metadata": {
            "needs_background": "light"
          }
        }
      ]
    },
    {
      "cell_type": "markdown",
      "metadata": {
        "id": "8Otmkuhz-1YN"
      },
      "source": [
        "### **CREAMOS LAS RNA**"
      ]
    },
    {
      "cell_type": "markdown",
      "metadata": {
        "id": "JNIKFYVO7PUD"
      },
      "source": [
        "Una vez estudiado los datos vamos a crear 8 modelos diferentes de RNA,  los cuales van a ser definidos, configurados, entrenados, evaluados y mejorados para posteriormente usarlos para hacer predicciones.\n",
        "\n",
        "Para todos los modelos la red sera secuencial y tendrá dos capas tipo Dense (densamente conectadas). Cambiaremos el optimizador, la función de activación y el número de neuronas de la primera capa."
      ]
    },
    {
      "cell_type": "markdown",
      "metadata": {
        "id": "cIx3STD5G1ao"
      },
      "source": [
        "![Tabla.PNG](data:image/png;base64,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)"
      ]
    },
    {
      "cell_type": "markdown",
      "metadata": {
        "id": "Z-xgVgEK9IuO"
      },
      "source": [
        "Cada una de las neuronas de la capa de entrada están conectadas con los 784 píxeles de cada imagen (28*28). Solo lo \n",
        "definimos para la primera capa, para la segunda capa y posteriores, Keras lo \n",
        "deduce.\n",
        "\n",
        "Para todos los modelos, la segunda capa tendrá la función de activación \"softmax\" de 10 vías (o neuronas), en la que la salida de cada neurona corresponde a la probabilidad estimada de la clase correspondiente. Dada una imagen de entrada, obtendremos las probabilidades de que sea cada uno de las 10 posibles prendas. \n",
        "\n",
        "Obtendremos como vector de salida de la red neuronal una distribución de probabilidad sobre un conjunto de etiquetas, es decir, un vector de 10 probabilidades cada una correspondiente a una prenda y que todas estas 10 probabilidades sumen 1 (las probabilidades se expresarán entre 0 y 1)."
      ]
    },
    {
      "cell_type": "markdown",
      "metadata": {
        "id": "KAJ7Ee9z7txz"
      },
      "source": [
        "- Para los cuatro primeros modelos, la primera capa tendrá 10 neuronas."
      ]
    },
    {
      "cell_type": "code",
      "metadata": {
        "id": "-UWOX0bSlmYk"
      },
      "source": [
        "from keras import models\n",
        "from keras import layers"
      ],
      "execution_count": null,
      "outputs": []
    },
    {
      "cell_type": "markdown",
      "metadata": {
        "id": "bBnpeb5E--Yq"
      },
      "source": [
        "**MODELO 1**"
      ]
    },
    {
      "cell_type": "code",
      "metadata": {
        "id": "GXiioLx3-9k0",
        "colab": {
          "base_uri": "https://localhost:8080/"
        },
        "outputId": "2c91bcf5-c25a-4bc3-e787-14388e07c5b1"
      },
      "source": [
        "#función de activación: relu\n",
        "#optimizador: sgd\n",
        "network1 = models.Sequential()\n",
        "network1.add(layers.Dense(10, activation='relu', input_shape=(28*28,), name = 'capa1'))\n",
        "network1.add(layers.Dense(10, activation='softmax', name = 'capa2'))\n",
        "\n",
        "network1.summary()\n",
        "# 7850 = 784 x 10 + 10 Sesgo\n",
        "# 110 = 10 x 10 + 10 Sesgo\n",
        "# 7960 = 7850 + 110\n"
      ],
      "execution_count": null,
      "outputs": [
        {
          "output_type": "stream",
          "name": "stdout",
          "text": [
            "Model: \"sequential_19\"\n",
            "_________________________________________________________________\n",
            "Layer (type)                 Output Shape              Param #   \n",
            "=================================================================\n",
            "capa1 (Dense)                (None, 10)                7850      \n",
            "_________________________________________________________________\n",
            "capa2 (Dense)                (None, 10)                110       \n",
            "=================================================================\n",
            "Total params: 7,960\n",
            "Trainable params: 7,960\n",
            "Non-trainable params: 0\n",
            "_________________________________________________________________\n"
          ]
        }
      ]
    },
    {
      "cell_type": "markdown",
      "metadata": {
        "id": "SeM3b2jDLNG0"
      },
      "source": [
        "**MODELO 2**"
      ]
    },
    {
      "cell_type": "code",
      "metadata": {
        "id": "nGcnSW1vK4wH",
        "colab": {
          "base_uri": "https://localhost:8080/"
        },
        "outputId": "2cfa393d-a7e3-4dc0-c728-51d4fd43349d"
      },
      "source": [
        "#función de activación: relu\n",
        "#optimizador: rmsprop\n",
        "network2 = models.Sequential()\n",
        "network2.add(layers.Dense(10, activation='relu', input_shape=(28*28,), name = 'capa1'))\n",
        "network2.add(layers.Dense(10, activation='softmax', name = 'capa2'))\n",
        "\n",
        "network2.summary()"
      ],
      "execution_count": null,
      "outputs": [
        {
          "output_type": "stream",
          "name": "stdout",
          "text": [
            "Model: \"sequential_20\"\n",
            "_________________________________________________________________\n",
            "Layer (type)                 Output Shape              Param #   \n",
            "=================================================================\n",
            "capa1 (Dense)                (None, 10)                7850      \n",
            "_________________________________________________________________\n",
            "capa2 (Dense)                (None, 10)                110       \n",
            "=================================================================\n",
            "Total params: 7,960\n",
            "Trainable params: 7,960\n",
            "Non-trainable params: 0\n",
            "_________________________________________________________________\n"
          ]
        }
      ]
    },
    {
      "cell_type": "markdown",
      "metadata": {
        "id": "G7wJ4UJpLIm5"
      },
      "source": [
        "**MODELO 3**"
      ]
    },
    {
      "cell_type": "code",
      "metadata": {
        "id": "cTsmGkh9nJJ8",
        "colab": {
          "base_uri": "https://localhost:8080/"
        },
        "outputId": "de947806-d881-459f-8779-b0749e94d3fe"
      },
      "source": [
        "##función de activación: sigmoid\n",
        "#optimizador: sgd\n",
        "network3 = models.Sequential()\n",
        "network3.add(layers.Dense(10, activation='sigmoid', input_shape=(28*28,), name = 'capa1'))\n",
        "network3.add(layers.Dense(10, activation='softmax', name = 'capa2'))\n",
        "\n",
        "network3.summary()"
      ],
      "execution_count": null,
      "outputs": [
        {
          "output_type": "stream",
          "name": "stdout",
          "text": [
            "Model: \"sequential_21\"\n",
            "_________________________________________________________________\n",
            "Layer (type)                 Output Shape              Param #   \n",
            "=================================================================\n",
            "capa1 (Dense)                (None, 10)                7850      \n",
            "_________________________________________________________________\n",
            "capa2 (Dense)                (None, 10)                110       \n",
            "=================================================================\n",
            "Total params: 7,960\n",
            "Trainable params: 7,960\n",
            "Non-trainable params: 0\n",
            "_________________________________________________________________\n"
          ]
        }
      ]
    },
    {
      "cell_type": "markdown",
      "metadata": {
        "id": "Xg4Q2yzTLSNj"
      },
      "source": [
        "**MODELO 4**"
      ]
    },
    {
      "cell_type": "code",
      "metadata": {
        "id": "_UN1q8TeLRmi",
        "colab": {
          "base_uri": "https://localhost:8080/"
        },
        "outputId": "165e164b-e71a-4219-a20f-88dff7f6cf68"
      },
      "source": [
        "#función de activación: sigmoid\n",
        "#optimizador: rmsprop\n",
        "network4 = models.Sequential()\n",
        "network4.add(layers.Dense(10, activation='sigmoid', input_shape=(28*28,), name = 'capa1'))\n",
        "network4.add(layers.Dense(10, activation='softmax', name = 'capa2'))\n",
        "\n",
        "network4.summary()"
      ],
      "execution_count": null,
      "outputs": [
        {
          "output_type": "stream",
          "name": "stdout",
          "text": [
            "Model: \"sequential_22\"\n",
            "_________________________________________________________________\n",
            "Layer (type)                 Output Shape              Param #   \n",
            "=================================================================\n",
            "capa1 (Dense)                (None, 10)                7850      \n",
            "_________________________________________________________________\n",
            "capa2 (Dense)                (None, 10)                110       \n",
            "=================================================================\n",
            "Total params: 7,960\n",
            "Trainable params: 7,960\n",
            "Non-trainable params: 0\n",
            "_________________________________________________________________\n"
          ]
        }
      ]
    },
    {
      "cell_type": "markdown",
      "metadata": {
        "id": "vLH3Tx52_stW"
      },
      "source": [
        "**COMPILACIÓN**\n",
        "\n",
        "* Para el algoritmo optimizador utilizamos 'rmsprop' (Root Mean Square \n",
        "Propagation), o 'sgd' (Stocastic Gradient Descendent), dependiendo del modelo.\n",
        "\n",
        "* Para la función de pérdida utilizamos 'sparse_categorical_crossentropy'\n",
        "\n",
        "* Para la métrica utilizamos 'accuracy'"
      ]
    },
    {
      "cell_type": "code",
      "metadata": {
        "id": "FNiZtwzl_JCa"
      },
      "source": [
        "network1.compile(optimizer='sgd', \n",
        "                loss='sparse_categorical_crossentropy',\n",
        "                metrics=['accuracy'])"
      ],
      "execution_count": null,
      "outputs": []
    },
    {
      "cell_type": "code",
      "metadata": {
        "id": "r2CCBycG_JdW"
      },
      "source": [
        "network2.compile(optimizer='rmsprop', \n",
        "                loss='sparse_categorical_crossentropy',\n",
        "                metrics=['accuracy'])"
      ],
      "execution_count": null,
      "outputs": []
    },
    {
      "cell_type": "code",
      "metadata": {
        "id": "GIhhD9OR_J-u"
      },
      "source": [
        "network3.compile(optimizer='sgd', \n",
        "                loss='sparse_categorical_crossentropy',\n",
        "                metrics=['accuracy'])"
      ],
      "execution_count": null,
      "outputs": []
    },
    {
      "cell_type": "code",
      "metadata": {
        "id": "MtKu5FJRLfpD"
      },
      "source": [
        "network4.compile(optimizer='rmsprop', \n",
        "                loss='sparse_categorical_crossentropy',\n",
        "                metrics=['accuracy'])"
      ],
      "execution_count": null,
      "outputs": []
    },
    {
      "cell_type": "markdown",
      "metadata": {
        "id": "kTPfIw6tZCL3"
      },
      "source": [
        "### **TRANSFORMACIÓN DATOS**"
      ]
    },
    {
      "cell_type": "markdown",
      "metadata": {
        "id": "6cbb7g61BeaM"
      },
      "source": [
        "Antes del entrenamiento, preprocesaremos nuestros datos dándoles la forma que espera la red y escalando para que todos los valores estén en el intervalo [0, 1]. Pasando de una matriz de forma (60000, 28, 28) con valores en el intervalo [0, 255] a una matriz de forma float32 con forma (60000, 28 * 28) con valores entre 0 y 1"
      ]
    },
    {
      "cell_type": "code",
      "metadata": {
        "id": "pGfryO7SZC7t"
      },
      "source": [
        "# PREPARAMOS LOS DATOS DE IMAGEN CON ALGUNA TRANSFORMACIÓN. NORMALIZACION\n",
        "\n",
        "# Cambiamos el tamaño de las imágenes de entrenamiento \n",
        "train_images = train_images.reshape((60000, 28 * 28))\n",
        "train_images, len(train_images), train_images.shape"
      ],
      "execution_count": null,
      "outputs": []
    },
    {
      "cell_type": "code",
      "metadata": {
        "id": "sUd3O774Zi8j"
      },
      "source": [
        "# Convertimos los valores de las matrices en valores entre 0 y 1\n",
        "train_images = train_images.astype('float32') / 255\n",
        "train_images, len(train_images), train_images.shape, train_images[50000]"
      ],
      "execution_count": null,
      "outputs": []
    },
    {
      "cell_type": "code",
      "metadata": {
        "id": "-KG9BOFLZnLk"
      },
      "source": [
        "# Repetimos los pasos anteriores para las imágenes de prueba\n",
        "test_images = test_images.reshape((10000, 28 * 28))\n",
        "test_images = test_images.astype('float32') / 255"
      ],
      "execution_count": null,
      "outputs": []
    },
    {
      "cell_type": "markdown",
      "metadata": {
        "id": "1VcrbmKsKI4h"
      },
      "source": [
        "Antes de entrenar nuestros modelos de redes neuronales, utilizamos la función `Flatten` que transforma el vector de entrada en uno unidimensional, manteniendo todos los valores en el vector. \n",
        "\n",
        "Por ejemplo, un vector (muestras, 10, 20, 1) se aplanará a (muestras, 10 * 20 * 1).\n",
        "\n"
      ]
    },
    {
      "cell_type": "code",
      "metadata": {
        "id": "rUX69CgzZskU"
      },
      "source": [
        "network1.add(layers.Flatten(input_shape=(28,28)))\n",
        "network2.add(layers.Flatten(input_shape=(28,28)))\n",
        "network3.add(layers.Flatten(input_shape=(28,28)))\n",
        "network4.add(layers.Flatten(input_shape=(28,28)))"
      ],
      "execution_count": null,
      "outputs": []
    },
    {
      "cell_type": "markdown",
      "metadata": {
        "id": "QepOz3kqsj4b"
      },
      "source": [
        "### **Entrenamos las redes de neuronas**\n",
        "\n",
        "Utilizamos la función `fit` que devuelve los valores de pérdida y de precisión de la red para las imágenes de entrenamiento.\n"
      ]
    },
    {
      "cell_type": "code",
      "metadata": {
        "id": "H4TLE9XyZw5_",
        "colab": {
          "base_uri": "https://localhost:8080/"
        },
        "outputId": "28af34a4-638b-4c9d-fbe0-00d8e8682994"
      },
      "source": [
        "network1.fit(train_images, train_labels, epochs=5, batch_size=128)"
      ],
      "execution_count": null,
      "outputs": [
        {
          "output_type": "stream",
          "name": "stdout",
          "text": [
            "Epoch 1/5\n",
            "469/469 [==============================] - 1s 2ms/step - loss: 1.5630 - accuracy: 0.4728\n",
            "Epoch 2/5\n",
            "469/469 [==============================] - 1s 2ms/step - loss: 0.8877 - accuracy: 0.7108\n",
            "Epoch 3/5\n",
            "469/469 [==============================] - 1s 2ms/step - loss: 0.7253 - accuracy: 0.7588\n",
            "Epoch 4/5\n",
            "469/469 [==============================] - 1s 2ms/step - loss: 0.6515 - accuracy: 0.7825\n",
            "Epoch 5/5\n",
            "469/469 [==============================] - 1s 2ms/step - loss: 0.6074 - accuracy: 0.7969\n"
          ]
        },
        {
          "output_type": "execute_result",
          "data": {
            "text/plain": [
              "<keras.callbacks.History at 0x7f191ee82190>"
            ]
          },
          "metadata": {},
          "execution_count": 182
        }
      ]
    },
    {
      "cell_type": "code",
      "metadata": {
        "id": "glafWhSCsU72",
        "colab": {
          "base_uri": "https://localhost:8080/"
        },
        "outputId": "8613cc80-155d-4ce9-d394-2c3432a76153"
      },
      "source": [
        "network2.fit(train_images, train_labels, epochs=5, batch_size=128)"
      ],
      "execution_count": null,
      "outputs": [
        {
          "output_type": "stream",
          "name": "stdout",
          "text": [
            "Epoch 1/5\n",
            "469/469 [==============================] - 1s 2ms/step - loss: 0.8283 - accuracy: 0.7358\n",
            "Epoch 2/5\n",
            "469/469 [==============================] - 1s 2ms/step - loss: 0.5377 - accuracy: 0.8189\n",
            "Epoch 3/5\n",
            "469/469 [==============================] - 1s 2ms/step - loss: 0.4849 - accuracy: 0.8354\n",
            "Epoch 4/5\n",
            "469/469 [==============================] - 1s 2ms/step - loss: 0.4577 - accuracy: 0.8431\n",
            "Epoch 5/5\n",
            "469/469 [==============================] - 1s 2ms/step - loss: 0.4417 - accuracy: 0.8482\n"
          ]
        },
        {
          "output_type": "execute_result",
          "data": {
            "text/plain": [
              "<keras.callbacks.History at 0x7f1927510b50>"
            ]
          },
          "metadata": {},
          "execution_count": 78
        }
      ]
    },
    {
      "cell_type": "code",
      "metadata": {
        "id": "k2HEa5TesXDb",
        "colab": {
          "base_uri": "https://localhost:8080/"
        },
        "outputId": "3c5cf99d-2c4c-40ea-aa15-570edb5e3c50"
      },
      "source": [
        "network3.fit(train_images, train_labels, epochs=5, batch_size=128)"
      ],
      "execution_count": null,
      "outputs": [
        {
          "output_type": "stream",
          "name": "stdout",
          "text": [
            "Epoch 1/5\n",
            "469/469 [==============================] - 1s 2ms/step - loss: 2.1353 - accuracy: 0.2981\n",
            "Epoch 2/5\n",
            "469/469 [==============================] - 1s 2ms/step - loss: 1.8431 - accuracy: 0.4884\n",
            "Epoch 3/5\n",
            "469/469 [==============================] - 1s 2ms/step - loss: 1.6283 - accuracy: 0.5338\n",
            "Epoch 4/5\n",
            "469/469 [==============================] - 1s 2ms/step - loss: 1.4658 - accuracy: 0.5654\n",
            "Epoch 5/5\n",
            "469/469 [==============================] - 1s 2ms/step - loss: 1.3421 - accuracy: 0.5878\n"
          ]
        },
        {
          "output_type": "execute_result",
          "data": {
            "text/plain": [
              "<keras.callbacks.History at 0x7f19270bfb50>"
            ]
          },
          "metadata": {},
          "execution_count": 79
        }
      ]
    },
    {
      "cell_type": "code",
      "metadata": {
        "id": "xPdr2LILsZQg",
        "colab": {
          "base_uri": "https://localhost:8080/"
        },
        "outputId": "8a32144d-7db9-4603-feb4-43ea57f67332"
      },
      "source": [
        "network4.fit(train_images, train_labels, epochs=5, batch_size=128)"
      ],
      "execution_count": null,
      "outputs": [
        {
          "output_type": "stream",
          "name": "stdout",
          "text": [
            "Epoch 1/5\n",
            "469/469 [==============================] - 1s 2ms/step - loss: 1.3851 - accuracy: 0.6419\n",
            "Epoch 2/5\n",
            "469/469 [==============================] - 1s 2ms/step - loss: 0.8103 - accuracy: 0.7937\n",
            "Epoch 3/5\n",
            "469/469 [==============================] - 1s 2ms/step - loss: 0.6132 - accuracy: 0.8163\n",
            "Epoch 4/5\n",
            "469/469 [==============================] - 1s 2ms/step - loss: 0.5328 - accuracy: 0.8268\n",
            "Epoch 5/5\n",
            "469/469 [==============================] - 1s 2ms/step - loss: 0.4908 - accuracy: 0.8352\n"
          ]
        },
        {
          "output_type": "execute_result",
          "data": {
            "text/plain": [
              "<keras.callbacks.History at 0x7f1927295790>"
            ]
          },
          "metadata": {},
          "execution_count": 80
        }
      ]
    },
    {
      "cell_type": "markdown",
      "metadata": {
        "id": "mzPnyVQEscl1"
      },
      "source": [
        "**Verificamos nuestros modelo ya entrenado**\n",
        "Ahora verificamos que nuestros modelos también funcionan bien para los datos de prueba"
      ]
    },
    {
      "cell_type": "code",
      "metadata": {
        "id": "C8UupVX7cyBc",
        "colab": {
          "base_uri": "https://localhost:8080/"
        },
        "outputId": "f8755e00-0eee-45fe-ef43-41472bd7cea8"
      },
      "source": [
        "test_loss1, test_acc1 = network1.evaluate(test_images, test_labels)"
      ],
      "execution_count": null,
      "outputs": [
        {
          "output_type": "stream",
          "name": "stdout",
          "text": [
            "313/313 [==============================] - 1s 1ms/step - loss: 0.5787 - accuracy: 0.8029\n"
          ]
        }
      ]
    },
    {
      "cell_type": "code",
      "metadata": {
        "id": "eYKGBXMDhdxn",
        "colab": {
          "base_uri": "https://localhost:8080/"
        },
        "outputId": "4b104153-0598-4b05-90f8-a46e2fd1b9f3"
      },
      "source": [
        "test_loss2, test_acc2 = network2.evaluate(test_images, test_labels)"
      ],
      "execution_count": null,
      "outputs": [
        {
          "output_type": "stream",
          "name": "stdout",
          "text": [
            "313/313 [==============================] - 0s 1ms/step - loss: 0.4881 - accuracy: 0.8320\n"
          ]
        }
      ]
    },
    {
      "cell_type": "code",
      "metadata": {
        "id": "7kporJR0hdi9",
        "colab": {
          "base_uri": "https://localhost:8080/"
        },
        "outputId": "81963124-ffd7-4b44-df2e-39bc14460a68"
      },
      "source": [
        "test_loss3, test_acc3 = network3.evaluate(test_images, test_labels)"
      ],
      "execution_count": null,
      "outputs": [
        {
          "output_type": "stream",
          "name": "stdout",
          "text": [
            "313/313 [==============================] - 0s 1ms/step - loss: 1.2995 - accuracy: 0.5940\n"
          ]
        }
      ]
    },
    {
      "cell_type": "code",
      "metadata": {
        "id": "xUWHsmkAhdBq",
        "colab": {
          "base_uri": "https://localhost:8080/"
        },
        "outputId": "baef5609-e41b-4e89-9516-fe029033b003"
      },
      "source": [
        "test_loss4, test_acc4 = network4.evaluate(test_images, test_labels)"
      ],
      "execution_count": null,
      "outputs": [
        {
          "output_type": "stream",
          "name": "stdout",
          "text": [
            "313/313 [==============================] - 0s 1ms/step - loss: 0.5089 - accuracy: 0.8275\n"
          ]
        }
      ]
    },
    {
      "cell_type": "markdown",
      "metadata": {
        "id": "cCmVMEh7wo0k"
      },
      "source": [
        "Vemos que el modelo 3 (sigmoid, sgd) es el peor ya que tiene la mayor pérdida y es bastante alta (1.2612)\n",
        "\n",
        "Por otro lado, si podemos observar que los dos mejores modelos son el 2 y el 4, cuyo optimizador es remsprop, por tanto, deducimos que para nuestro caso, es mejor utilizar dicho optimizador antes que sgd\n",
        "\n",
        "También nos fijamos que lo modelos 1 y 2 son mejores que el 3 y 4 respectivamente, por lo que, nos damos cuenta que la función de activación relu es preferible a la sigmoid\n",
        "\n",
        "Conclusión: el mejor modelo es el 2."
      ]
    },
    {
      "cell_type": "markdown",
      "metadata": {
        "id": "Cog3gsUtt866"
      },
      "source": [
        "### **PREDICCIONES**"
      ]
    },
    {
      "cell_type": "code",
      "metadata": {
        "id": "NvWwLKiqdRJ2",
        "colab": {
          "base_uri": "https://localhost:8080/",
          "height": 265
        },
        "outputId": "e7133e75-c930-4aff-aadc-3e8809e385b1"
      },
      "source": [
        "# Veamos el elemento 6 de test y pintémoslo con matplotlib\n",
        "from keras.datasets import fashion_mnist\n",
        "(train_images, train_labels), (test_images, test_labels) = fashion_mnist.load_data()\n",
        "import matplotlib.pyplot as plt\n",
        "digit = test_images[5]\n",
        "plt.imshow(digit, cmap=plt.cm.binary)\n",
        "plt.show()"
      ],
      "execution_count": null,
      "outputs": [
        {
          "output_type": "display_data",
          "data": {
            "image/png": "[encoded data removed]",
            "text/plain": [
              "<Figure size 432x288 with 1 Axes>"
            ]
          },
          "metadata": {
            "needs_background": "light"
          }
        }
      ]
    },
    {
      "cell_type": "code",
      "metadata": {
        "id": "o1mpvfN5uCg_",
        "colab": {
          "base_uri": "https://localhost:8080/"
        },
        "outputId": "8c76a55b-d67a-4c1e-fc08-adb5d6eb16ff"
      },
      "source": [
        "train_images = train_images.reshape((60000, 28 * 28))\n",
        "test_images = test_images.reshape((10000, 28 * 28))\n",
        "\n",
        "train_images = train_images.astype('float32') / 255\n",
        "test_images = test_images.astype('float32') / 255\n",
        "\n",
        "from keras.utils.np_utils import to_categorical\n",
        "\n",
        "print(test_labels)\n",
        "test_labels = to_categorical(test_labels)\n",
        "print(test_labels)\n"
      ],
      "execution_count": null,
      "outputs": [
        {
          "output_type": "stream",
          "name": "stdout",
          "text": [
            "[9 2 1 ... 8 1 5]\n",
            "[[0. 0. 0. ... 0. 0. 1.]\n",
            " [0. 0. 1. ... 0. 0. 0.]\n",
            " [0. 1. 0. ... 0. 0. 0.]\n",
            " ...\n",
            " [0. 0. 0. ... 0. 1. 0.]\n",
            " [0. 1. 0. ... 0. 0. 0.]\n",
            " [0. 0. 0. ... 0. 0. 0.]]\n"
          ]
        }
      ]
    },
    {
      "cell_type": "markdown",
      "metadata": {
        "id": "Q7PXgK5ExLQ_"
      },
      "source": [
        "Hacemos predicciones sobre la 6ª imagen de test en cada modelo"
      ]
    },
    {
      "cell_type": "markdown",
      "metadata": {
        "id": "Tn6vm7xQuTL2"
      },
      "source": [
        "**MODELO 1**"
      ]
    },
    {
      "cell_type": "code",
      "metadata": {
        "id": "fZmWQ8a6uNnA",
        "colab": {
          "base_uri": "https://localhost:8080/"
        },
        "outputId": "2d331620-4ccf-49a8-9242-0d9a25f8f700"
      },
      "source": [
        "import numpy as np\n",
        "predictions1 = network1.predict(test_images)\n",
        "print(np.argmax(predictions1[5]))\n",
        "print(predictions1[5])\n",
        "np.sum(predictions1[5])\n",
        "print(predictions1)"
      ],
      "execution_count": null,
      "outputs": [
        {
          "output_type": "stream",
          "name": "stdout",
          "text": [
            "1\n",
            "[4.23067156e-03 9.64086890e-01 2.55208230e-03 1.27435075e-02\n",
            " 1.41380252e-02 4.71889944e-05 1.22378918e-03 6.30413007e-04\n",
            " 3.57405770e-05 3.11613170e-04]\n",
            "[[1.5508312e-04 6.2835476e-05 5.7102567e-05 ... 1.9168495e-01\n",
            "  1.3492111e-02 5.8937794e-01]\n",
            " [7.6263677e-04 4.8994243e-06 8.3935028e-01 ... 5.5657273e-10\n",
            "  6.2235218e-04 1.0863060e-07]\n",
            " [5.4184678e-05 9.9836296e-01 2.7518730e-05 ... 5.7022204e-05\n",
            "  2.1725718e-07 2.3328732e-05]\n",
            " ...\n",
            " [5.4581620e-02 4.7716090e-05 4.1187364e-03 ... 2.7730651e-03\n",
            "  7.2698426e-01 4.5737292e-04]\n",
            " [4.5706829e-04 9.4971269e-01 4.1950046e-04 ... 2.4071638e-04\n",
            "  1.0349909e-05 1.9663401e-04]\n",
            " [1.3569269e-03 3.0683342e-03 2.6338249e-03 ... 2.3086371e-01\n",
            "  6.4600579e-02 6.7191020e-02]]\n"
          ]
        }
      ]
    },
    {
      "cell_type": "markdown",
      "metadata": {
        "id": "eYn_vr4-uW-1"
      },
      "source": [
        "**MODELO 2**"
      ]
    },
    {
      "cell_type": "code",
      "metadata": {
        "id": "89jxp6RUuXfP",
        "colab": {
          "base_uri": "https://localhost:8080/"
        },
        "outputId": "5424bc67-909a-4d44-900f-971de8e6cc85"
      },
      "source": [
        "predictions2 = network2.predict(test_images)\n",
        "print(np.argmax(predictions2[5]))\n",
        "print(predictions2[5])\n",
        "np.sum(predictions2[5])\n",
        "print(predictions2)"
      ],
      "execution_count": null,
      "outputs": [
        {
          "output_type": "stream",
          "name": "stdout",
          "text": [
            "1\n",
            "[6.3714338e-03 9.8738527e-01 3.4936439e-04 1.0323613e-03 4.8235026e-03\n",
            " 1.2985163e-13 3.7191934e-05 6.4417399e-12 8.3886800e-07 3.3515461e-11]\n",
            "[[6.74603427e-07 2.34557410e-06 3.06777156e-06 ... 2.86691427e-01\n",
            "  4.57094237e-03 5.06491184e-01]\n",
            " [4.24077822e-04 1.26223398e-07 7.74678051e-01 ... 5.24337891e-14\n",
            "  2.55120358e-05 6.87917822e-12]\n",
            " [5.21529473e-05 9.99844670e-01 2.59868989e-06 ... 1.56995063e-13\n",
            "  2.92043438e-08 1.60249459e-13]\n",
            " ...\n",
            " [1.14256695e-01 3.23332861e-05 5.86946588e-03 ... 1.68363749e-05\n",
            "  5.43088555e-01 1.27789433e-04]\n",
            " [1.57884078e-05 9.98471200e-01 7.27922554e-07 ... 1.50965462e-10\n",
            "  5.98156930e-07 1.82145388e-09]\n",
            " [1.15007615e-05 3.11875083e-05 2.78292981e-04 ... 6.35749996e-02\n",
            "  1.55540779e-02 1.59717118e-03]]\n"
          ]
        }
      ]
    },
    {
      "cell_type": "markdown",
      "metadata": {
        "id": "E5Jkzy26uYAX"
      },
      "source": [
        "**MODELO 3**"
      ]
    },
    {
      "cell_type": "code",
      "metadata": {
        "id": "X1Rkfe9zuYpU",
        "colab": {
          "base_uri": "https://localhost:8080/"
        },
        "outputId": "3c39ce4a-78cc-42a4-e9d7-b4edeb63d48a"
      },
      "source": [
        "predictions3 = network3.predict(test_images)\n",
        "print(np.argmax(predictions3[5]))\n",
        "print(predictions3[5])\n",
        "np.sum(predictions3[5])\n",
        "print(predictions3)"
      ],
      "execution_count": null,
      "outputs": [
        {
          "output_type": "stream",
          "name": "stdout",
          "text": [
            "1\n",
            "[0.10399196 0.3366293  0.01846706 0.25860056 0.07969233 0.04959993\n",
            " 0.06503098 0.03220309 0.0376103  0.01817462]\n",
            "[[0.00750141 0.02194777 0.0260495  ... 0.24098033 0.07469393 0.30969155]\n",
            " [0.07450075 0.00672003 0.37779927 ... 0.0146251  0.08236829 0.08209925]\n",
            " [0.03375984 0.45868933 0.00514264 ... 0.02910358 0.02271954 0.01468087]\n",
            " ...\n",
            " [0.13590316 0.11911333 0.0484855  ... 0.03557634 0.19155729 0.03226656]\n",
            " [0.03589997 0.43035403 0.00617129 ... 0.03481446 0.02329156 0.02020273]\n",
            " [0.01107651 0.03077392 0.0357626  ... 0.27636078 0.11290919 0.17265604]]\n"
          ]
        }
      ]
    },
    {
      "cell_type": "markdown",
      "metadata": {
        "id": "FevttEucugd4"
      },
      "source": [
        "**MODELO 4**"
      ]
    },
    {
      "cell_type": "code",
      "metadata": {
        "id": "-1RTWXJ0ug64",
        "colab": {
          "base_uri": "https://localhost:8080/"
        },
        "outputId": "8d885df8-6abe-4937-fd70-2ce204f97f5e"
      },
      "source": [
        "predictions4 = network4.predict(test_images)\n",
        "print(np.argmax(predictions3[5]))\n",
        "print(predictions4[5])\n",
        "np.sum(predictions4[5])\n",
        "print(predictions4)"
      ],
      "execution_count": null,
      "outputs": [
        {
          "output_type": "stream",
          "name": "stdout",
          "text": [
            "1\n",
            "[2.8934870e-03 9.7386688e-01 1.9825990e-03 5.6409445e-03 3.5811905e-03\n",
            " 6.2823771e-03 9.6811447e-04 2.9980037e-03 1.7001822e-03 8.6104890e-05]\n",
            "[[6.17280137e-04 7.31426582e-04 5.94089273e-04 ... 2.53068477e-01\n",
            "  6.81257574e-03 5.96316397e-01]\n",
            " [2.05979645e-02 2.62836507e-03 8.53683412e-01 ... 3.52799194e-04\n",
            "  2.08973396e-03 1.85799305e-04]\n",
            " [4.60531737e-04 9.86683190e-01 2.35667452e-04 ... 3.32908239e-03\n",
            "  3.75038246e-04 1.41125911e-05]\n",
            " ...\n",
            " [4.72312979e-02 8.12782033e-04 1.08838575e-02 ... 1.28503575e-03\n",
            "  7.79576838e-01 1.35000488e-02]\n",
            " [4.36979608e-04 9.83741164e-01 1.91323808e-04 ... 3.97151336e-03\n",
            "  3.35263787e-04 1.58472631e-05]\n",
            " [1.92757478e-04 7.48562859e-03 2.03973288e-03 ... 1.68056980e-01\n",
            "  9.33349784e-03 2.18595080e-02]]\n"
          ]
        }
      ]
    },
    {
      "cell_type": "markdown",
      "metadata": {
        "id": "PWyurnYKKhFN"
      },
      "source": [
        "Se puede comprobar que todos los modelos predicen de manera correcta que la imagen 6 es el elemento 1 de nuestro vector (pantalones), pero si nos fijamos en el vector de probabilidades?, obeservamos que en todos excepto el 3, la probabilidad de que sea 1 es bastante más garnde que el resto"
      ]
    },
    {
      "cell_type": "code",
      "metadata": {
        "id": "pI3XE5ABu7UQ"
      },
      "source": [
        "def plot_image(i, predictions_array, true_label, img):\n",
        "  predictions_array, true_label, img = predictions_array, true_label[i], img[i]\n",
        "  plt.grid(False)\n",
        "  plt.xticks([])\n",
        "  plt.yticks([])\n",
        "\n",
        "  plt.imshow(img, cmap=plt.cm.binary)    \n",
        "\n",
        "  predicted_label = np.argmax(predictions_array)\n",
        "  if predicted_label.all() == true_label.all():\n",
        "    color = 'blue'\n",
        "  else:\n",
        "    color = 'red'\n",
        "\n",
        "  plt.xlabel(\"{} {:2.0f}% ({})\".format(predicted_label,\n",
        "                                100*np.max(predictions_array),\n",
        "                                true_label),\n",
        "                                color=color)\n",
        "\n",
        "def plot_value_array(i, predictions_array, true_label):\n",
        "  predictions_array, true_label = predictions_array, true_label[i]\n",
        "  plt.grid(False)\n",
        "  plt.xticks(range(10))\n",
        "  plt.yticks([])\n",
        "  thisplot = plt.bar(range(10), predictions_array, color=\"#00FF00\")\n",
        "  plt.ylim([0, 1])\n",
        "  predicted_label = np.argmax(predictions_array)\n",
        "\n",
        "  thisplot[predicted_label].set_color('red')\n",
        "  thisplot[true_label].set_color('black')"
      ],
      "execution_count": null,
      "outputs": []
    },
    {
      "cell_type": "code",
      "metadata": {
        "id": "AaAtWuFpKzIM"
      },
      "source": [
        "from keras.datasets import fashion_mnist\n",
        "(train_images, train_labels), (test_images, test_labels) = fashion_mnist.load_data()\n",
        "train_images = train_images.reshape((60000, 28 * 28))\n",
        "test_images = test_images.reshape((10000, 28 * 28))\n",
        "\n",
        "train_images = train_images.astype('float32') / 255\n",
        "test_images = test_images.astype('float32') / 255\n",
        "\n",
        "\n",
        "predictions1 = network1.predict(test_images)\n",
        "predictions2 = network2.predict(test_images)\n",
        "predictions3 = network3.predict(test_images)\n",
        "predictions4 = network4.predict(test_images)\n"
      ],
      "execution_count": null,
      "outputs": []
    },
    {
      "cell_type": "markdown",
      "metadata": {
        "id": "euGpBO1_vBMp"
      },
      "source": [
        "Predicciones"
      ]
    },
    {
      "cell_type": "code",
      "metadata": {
        "id": "tjFyUaMKvGVx",
        "colab": {
          "base_uri": "https://localhost:8080/",
          "height": 211
        },
        "outputId": "fc59dfa6-6a1d-48f4-a669-c1bffe28fa6e"
      },
      "source": [
        "i = 5\n",
        "plt.figure(figsize=(6,3))\n",
        "plt.subplot(1,2,1)\n",
        "plot_image(i, predictions1[i], test_labels, test_images.reshape(10000,28,28))\n",
        "plt.subplot(1,2,2)\n",
        "plot_value_array(i, predictions1[i],  test_labels)\n",
        "plt.show()"
      ],
      "execution_count": null,
      "outputs": [
        {
          "output_type": "display_data",
          "data": {
            "image/png": "[encoded data removed]",
            "text/plain": [
              "<Figure size 432x216 with 2 Axes>"
            ]
          },
          "metadata": {
            "needs_background": "light"
          }
        }
      ]
    },
    {
      "cell_type": "code",
      "metadata": {
        "id": "OPT0ZZhLvKq9",
        "colab": {
          "base_uri": "https://localhost:8080/",
          "height": 211
        },
        "outputId": "a44bd03f-544b-43b6-8a85-aab3880cb095"
      },
      "source": [
        "i = 5\n",
        "plt.figure(figsize=(6,3))\n",
        "plt.subplot(1,2,1)\n",
        "plot_image(i, predictions2[i], test_labels, test_images.reshape(10000,28,28))\n",
        "plt.subplot(1,2,2)\n",
        "plot_value_array(i, predictions2[i],  test_labels)\n",
        "plt.show()\n"
      ],
      "execution_count": null,
      "outputs": [
        {
          "output_type": "display_data",
          "data": {
            "image/png": "[encoded data removed]",
            "text/plain": [
              "<Figure size 432x216 with 2 Axes>"
            ]
          },
          "metadata": {
            "needs_background": "light"
          }
        }
      ]
    },
    {
      "cell_type": "code",
      "metadata": {
        "id": "Bq5STgZjvSaI",
        "colab": {
          "base_uri": "https://localhost:8080/",
          "height": 211
        },
        "outputId": "8048a529-dcfb-4df2-e885-414939cfc212"
      },
      "source": [
        "i = 5\n",
        "plt.figure(figsize=(6,3))\n",
        "plt.subplot(1,2,1)\n",
        "plot_image(i, predictions3[i], test_labels, test_images.reshape(10000,28,28))\n",
        "plt.subplot(1,2,2)\n",
        "plot_value_array(i, predictions3[i],  test_labels)\n",
        "plt.show()"
      ],
      "execution_count": null,
      "outputs": [
        {
          "output_type": "display_data",
          "data": {
            "image/png": "[encoded data removed]",
            "text/plain": [
              "<Figure size 432x216 with 2 Axes>"
            ]
          },
          "metadata": {
            "needs_background": "light"
          }
        }
      ]
    },
    {
      "cell_type": "code",
      "metadata": {
        "id": "CRfYDhXlvURi",
        "colab": {
          "base_uri": "https://localhost:8080/",
          "height": 211
        },
        "outputId": "fd16f9b4-4975-4669-8ddc-f4a8067c1688"
      },
      "source": [
        "i = 5\n",
        "plt.figure(figsize=(6,3))\n",
        "plt.subplot(1,2,1)\n",
        "plot_image(i, predictions4[i], test_labels, test_images.reshape(10000,28,28))\n",
        "plt.subplot(1,2,2)\n",
        "plot_value_array(i, predictions4[i],  test_labels)\n",
        "plt.show()"
      ],
      "execution_count": null,
      "outputs": [
        {
          "output_type": "display_data",
          "data": {
            "image/png": "[encoded data removed]",
            "text/plain": [
              "<Figure size 432x216 with 2 Axes>"
            ]
          },
          "metadata": {
            "needs_background": "light"
          }
        }
      ]
    },
    {
      "cell_type": "markdown",
      "metadata": {
        "id": "YVFregV-LLlQ"
      },
      "source": [
        "Como hemos explicado antes, en estos gráficos observamos de nuevo que el modelo tres predice de manera correcta que prenda es, pero con un porcentaje relativamente bajo."
      ]
    },
    {
      "cell_type": "markdown",
      "metadata": {
        "id": "Dj1O4PoUz-32"
      },
      "source": [
        "### APARTADO 3"
      ]
    },
    {
      "cell_type": "markdown",
      "metadata": {
        "id": "47owheapz8Ot"
      },
      "source": [
        "Analizar e interpretar los resultados del caso 2 y el 7 frente a sus originales si se multiplica por 5 las épocas de entrenamiento (25)"
      ]
    },
    {
      "cell_type": "code",
      "metadata": {
        "id": "XC1B5HKy8gxq",
        "colab": {
          "base_uri": "https://localhost:8080/"
        },
        "outputId": "51e43dd3-4cdf-46c9-af69-0c087a6e5460"
      },
      "source": [
        "network22 = models.Sequential()\n",
        "network22.add(layers.Dense(10, activation='relu', input_shape=(28*28,), name = 'capa1'))\n",
        "network22.add(layers.Dense(10, activation='softmax', name = 'capa2'))\n",
        "\n",
        "network22.summary()"
      ],
      "execution_count": null,
      "outputs": [
        {
          "output_type": "stream",
          "name": "stdout",
          "text": [
            "Model: \"sequential_10\"\n",
            "_________________________________________________________________\n",
            "Layer (type)                 Output Shape              Param #   \n",
            "=================================================================\n",
            "capa1 (Dense)                (None, 10)                7850      \n",
            "_________________________________________________________________\n",
            "capa2 (Dense)                (None, 10)                110       \n",
            "=================================================================\n",
            "Total params: 7,960\n",
            "Trainable params: 7,960\n",
            "Non-trainable params: 0\n",
            "_________________________________________________________________\n"
          ]
        }
      ]
    },
    {
      "cell_type": "code",
      "metadata": {
        "id": "-GSS1UR18qOR"
      },
      "source": [
        "network22.compile(optimizer='rmsprop', \n",
        "                loss='sparse_categorical_crossentropy',\n",
        "                metrics=['accuracy'])"
      ],
      "execution_count": null,
      "outputs": []
    },
    {
      "cell_type": "code",
      "metadata": {
        "id": "mIugYkmX8zmP"
      },
      "source": [
        "network22.add(layers.Flatten(input_shape=(28,28)))"
      ],
      "execution_count": null,
      "outputs": []
    },
    {
      "cell_type": "code",
      "metadata": {
        "id": "ThUtZ7aR86AP",
        "colab": {
          "base_uri": "https://localhost:8080/"
        },
        "outputId": "e5c9cda3-c507-4ca6-bcb1-80d9abbe2972"
      },
      "source": [
        "network22.fit(train_images, train_labels, epochs=25, batch_size=128)"
      ],
      "execution_count": null,
      "outputs": [
        {
          "output_type": "stream",
          "name": "stdout",
          "text": [
            "Epoch 1/25\n",
            "469/469 [==============================] - 1s 2ms/step - loss: 0.8144 - accuracy: 0.7300\n",
            "Epoch 2/25\n",
            "469/469 [==============================] - 1s 2ms/step - loss: 0.5087 - accuracy: 0.8271\n",
            "Epoch 3/25\n",
            "469/469 [==============================] - 1s 2ms/step - loss: 0.4671 - accuracy: 0.8384\n",
            "Epoch 4/25\n",
            "469/469 [==============================] - 1s 2ms/step - loss: 0.4453 - accuracy: 0.8466\n",
            "Epoch 5/25\n",
            "469/469 [==============================] - 1s 2ms/step - loss: 0.4320 - accuracy: 0.8504\n",
            "Epoch 6/25\n",
            "469/469 [==============================] - 1s 2ms/step - loss: 0.4215 - accuracy: 0.8539\n",
            "Epoch 7/25\n",
            "469/469 [==============================] - 1s 2ms/step - loss: 0.4132 - accuracy: 0.8571\n",
            "Epoch 8/25\n",
            "469/469 [==============================] - 1s 2ms/step - loss: 0.4066 - accuracy: 0.8581\n",
            "Epoch 9/25\n",
            "469/469 [==============================] - 1s 2ms/step - loss: 0.4007 - accuracy: 0.8596\n",
            "Epoch 10/25\n",
            "469/469 [==============================] - 1s 2ms/step - loss: 0.3968 - accuracy: 0.8617\n",
            "Epoch 11/25\n",
            "469/469 [==============================] - 1s 2ms/step - loss: 0.3936 - accuracy: 0.8626\n",
            "Epoch 12/25\n",
            "469/469 [==============================] - 1s 2ms/step - loss: 0.3896 - accuracy: 0.8634\n",
            "Epoch 13/25\n",
            "469/469 [==============================] - 1s 2ms/step - loss: 0.3864 - accuracy: 0.8643\n",
            "Epoch 14/25\n",
            "469/469 [==============================] - 1s 2ms/step - loss: 0.3838 - accuracy: 0.8662\n",
            "Epoch 15/25\n",
            "469/469 [==============================] - 1s 2ms/step - loss: 0.3804 - accuracy: 0.8673\n",
            "Epoch 16/25\n",
            "469/469 [==============================] - 1s 2ms/step - loss: 0.3782 - accuracy: 0.8672\n",
            "Epoch 17/25\n",
            "469/469 [==============================] - 1s 2ms/step - loss: 0.3762 - accuracy: 0.8680\n",
            "Epoch 18/25\n",
            "469/469 [==============================] - 1s 2ms/step - loss: 0.3740 - accuracy: 0.8686\n",
            "Epoch 19/25\n",
            "469/469 [==============================] - 1s 2ms/step - loss: 0.3718 - accuracy: 0.8691\n",
            "Epoch 20/25\n",
            "469/469 [==============================] - 1s 2ms/step - loss: 0.3707 - accuracy: 0.8697\n",
            "Epoch 21/25\n",
            "469/469 [==============================] - 1s 2ms/step - loss: 0.3683 - accuracy: 0.8706\n",
            "Epoch 22/25\n",
            "469/469 [==============================] - 1s 2ms/step - loss: 0.3669 - accuracy: 0.8714\n",
            "Epoch 23/25\n",
            "469/469 [==============================] - 1s 2ms/step - loss: 0.3656 - accuracy: 0.8713\n",
            "Epoch 24/25\n",
            "469/469 [==============================] - 1s 2ms/step - loss: 0.3639 - accuracy: 0.8711\n",
            "Epoch 25/25\n",
            "469/469 [==============================] - 1s 2ms/step - loss: 0.3629 - accuracy: 0.8720\n"
          ]
        },
        {
          "output_type": "execute_result",
          "data": {
            "text/plain": [
              "<keras.callbacks.History at 0x7f19275be5d0>"
            ]
          },
          "metadata": {},
          "execution_count": 118
        }
      ]
    },
    {
      "cell_type": "markdown",
      "metadata": {
        "id": "x7WYN5qULgnN"
      },
      "source": [
        "Aunque esperabamos un sobreentrenamiento del modelo, vemos que lo que ocurre es que a partir de la vuelta 13/14, el valor de pérdida y de precisión apenas varían."
      ]
    },
    {
      "cell_type": "markdown",
      "metadata": {
        "id": "P6GplpnHEPKE"
      },
      "source": [
        "### APARTADO 6b\n",
        "Predicciones bucle\n"
      ]
    },
    {
      "cell_type": "markdown",
      "metadata": {
        "id": "MkSQb5GgEU4R"
      },
      "source": [
        "Ver la predicción, igual que el gráfico anterior, de las 10 primeras imágenes del conjunto de test, para cada uno de los 8 casos. Reflexioney comente las diferencias que observa."
      ]
    },
    {
      "cell_type": "code",
      "metadata": {
        "id": "bUWu8-RiEdU_",
        "colab": {
          "base_uri": "https://localhost:8080/",
          "height": 1000
        },
        "outputId": "d6be7a4b-5fbc-4808-f306-be8242e7652d"
      },
      "source": [
        "for i in range(10):\n",
        "    plt.figure(figsize=(6,3))\n",
        "    plt.subplot(1,2,1)\n",
        "    plot_image(i, predictions1[i], test_labels, test_images.reshape(10000,28,28))\n",
        "    plt.subplot(1,2,2)\n",
        "    plot_value_array(i, predictions1[i],  test_labels)\n",
        "    plt.show()\n",
        "    plt.clf()\n",
        "    "
      ],
      "execution_count": null,
      "outputs": [
        {
          "output_type": "display_data",
          "data": {
            "image/png": "[encoded data removed]",
            "text/plain": [
              "<Figure size 432x216 with 2 Axes>"
            ]
          },
          "metadata": {
            "needs_background": "light"
          }
        },
        {
          "output_type": "display_data",
          "data": {
            "text/plain": [
              "<Figure size 432x288 with 0 Axes>"
            ]
          },
          "metadata": {}
        },
        {
          "output_type": "display_data",
          "data": {
            "image/png": "[encoded data removed]",
            "text/plain": [
              "<Figure size 432x216 with 2 Axes>"
            ]
          },
          "metadata": {
            "needs_background": "light"
          }
        },
        {
          "output_type": "display_data",
          "data": {
            "text/plain": [
              "<Figure size 432x288 with 0 Axes>"
            ]
          },
          "metadata": {}
        },
        {
          "output_type": "display_data",
          "data": {
            "image/png": "[encoded data removed]",
            "text/plain": [
              "<Figure size 432x216 with 2 Axes>"
            ]
          },
          "metadata": {
            "needs_background": "light"
          }
        },
        {
          "output_type": "display_data",
          "data": {
            "text/plain": [
              "<Figure size 432x288 with 0 Axes>"
            ]
          },
          "metadata": {}
        },
        {
          "output_type": "display_data",
          "data": {
            "image/png": "[encoded data removed]",
            "text/plain": [
              "<Figure size 432x216 with 2 Axes>"
            ]
          },
          "metadata": {
            "needs_background": "light"
          }
        },
        {
          "output_type": "display_data",
          "data": {
            "text/plain": [
              "<Figure size 432x288 with 0 Axes>"
            ]
          },
          "metadata": {}
        },
        {
          "output_type": "display_data",
          "data": {
            "image/png": "[encoded data removed]",
            "text/plain": [
              "<Figure size 432x216 with 2 Axes>"
            ]
          },
          "metadata": {
            "needs_background": "light"
          }
        },
        {
          "output_type": "display_data",
          "data": {
            "text/plain": [
              "<Figure size 432x288 with 0 Axes>"
            ]
          },
          "metadata": {}
        },
        {
          "output_type": "display_data",
          "data": {
            "image/png": "[encoded data removed]",
            "text/plain": [
              "<Figure size 432x216 with 2 Axes>"
            ]
          },
          "metadata": {
            "needs_background": "light"
          }
        },
        {
          "output_type": "display_data",
          "data": {
            "text/plain": [
              "<Figure size 432x288 with 0 Axes>"
            ]
          },
          "metadata": {}
        },
        {
          "output_type": "display_data",
          "data": {
            "image/png": "[encoded data removed]",
            "text/plain": [
              "<Figure size 432x216 with 2 Axes>"
            ]
          },
          "metadata": {
            "needs_background": "light"
          }
        },
        {
          "output_type": "display_data",
          "data": {
            "text/plain": [
              "<Figure size 432x288 with 0 Axes>"
            ]
          },
          "metadata": {}
        },
        {
          "output_type": "display_data",
          "data": {
            "image/png": "[encoded data removed]",
            "text/plain": [
              "<Figure size 432x216 with 2 Axes>"
            ]
          },
          "metadata": {
            "needs_background": "light"
          }
        },
        {
          "output_type": "display_data",
          "data": {
            "text/plain": [
              "<Figure size 432x288 with 0 Axes>"
            ]
          },
          "metadata": {}
        },
        {
          "output_type": "display_data",
          "data": {
            "image/png": "[encoded data removed]",
            "text/plain": [
              "<Figure size 432x216 with 2 Axes>"
            ]
          },
          "metadata": {
            "needs_background": "light"
          }
        },
        {
          "output_type": "display_data",
          "data": {
            "text/plain": [
              "<Figure size 432x288 with 0 Axes>"
            ]
          },
          "metadata": {}
        },
        {
          "output_type": "display_data",
          "data": {
            "image/png": "[encoded data removed]",
            "text/plain": [
              "<Figure size 432x216 with 2 Axes>"
            ]
          },
          "metadata": {
            "needs_background": "light"
          }
        },
        {
          "output_type": "display_data",
          "data": {
            "text/plain": [
              "<Figure size 432x288 with 0 Axes>"
            ]
          },
          "metadata": {}
        }
      ]
    },
    {
      "cell_type": "code",
      "metadata": {
        "id": "Luv-pNMQkvR7",
        "colab": {
          "base_uri": "https://localhost:8080/",
          "height": 1000
        },
        "outputId": "5b12018e-a788-4f33-8fc1-dba18ab5924e"
      },
      "source": [
        "for i in range(10):\n",
        "    plt.figure(figsize=(6,3))\n",
        "    plt.subplot(1,2,1)\n",
        "    plot_image(i, predictions2[i], test_labels, test_images.reshape(10000,28,28))\n",
        "    plt.subplot(1,2,2)\n",
        "    plot_value_array(i, predictions2[i],  test_labels)\n",
        "    plt.show()\n",
        "    plt.clf()"
      ],
      "execution_count": null,
      "outputs": [
        {
          "output_type": "display_data",
          "data": {
            "image/png": "[encoded data removed]",
            "text/plain": [
              "<Figure size 432x216 with 2 Axes>"
            ]
          },
          "metadata": {
            "needs_background": "light"
          }
        },
        {
          "output_type": "display_data",
          "data": {
            "text/plain": [
              "<Figure size 432x288 with 0 Axes>"
            ]
          },
          "metadata": {}
        },
        {
          "output_type": "display_data",
          "data": {
            "image/png": "[encoded data removed]",
            "text/plain": [
              "<Figure size 432x216 with 2 Axes>"
            ]
          },
          "metadata": {
            "needs_background": "light"
          }
        },
        {
          "output_type": "display_data",
          "data": {
            "text/plain": [
              "<Figure size 432x288 with 0 Axes>"
            ]
          },
          "metadata": {}
        },
        {
          "output_type": "display_data",
          "data": {
            "image/png": "[encoded data removed]",
            "text/plain": [
              "<Figure size 432x216 with 2 Axes>"
            ]
          },
          "metadata": {
            "needs_background": "light"
          }
        },
        {
          "output_type": "display_data",
          "data": {
            "text/plain": [
              "<Figure size 432x288 with 0 Axes>"
            ]
          },
          "metadata": {}
        },
        {
          "output_type": "display_data",
          "data": {
            "image/png": "[encoded data removed]",
            "text/plain": [
              "<Figure size 432x216 with 2 Axes>"
            ]
          },
          "metadata": {
            "needs_background": "light"
          }
        },
        {
          "output_type": "display_data",
          "data": {
            "text/plain": [
              "<Figure size 432x288 with 0 Axes>"
            ]
          },
          "metadata": {}
        },
        {
          "output_type": "display_data",
          "data": {
            "image/png": "[encoded data removed]",
            "text/plain": [
              "<Figure size 432x216 with 2 Axes>"
            ]
          },
          "metadata": {
            "needs_background": "light"
          }
        },
        {
          "output_type": "display_data",
          "data": {
            "text/plain": [
              "<Figure size 432x288 with 0 Axes>"
            ]
          },
          "metadata": {}
        },
        {
          "output_type": "display_data",
          "data": {
            "image/png": "[encoded data removed]",
            "text/plain": [
              "<Figure size 432x216 with 2 Axes>"
            ]
          },
          "metadata": {
            "needs_background": "light"
          }
        },
        {
          "output_type": "display_data",
          "data": {
            "text/plain": [
              "<Figure size 432x288 with 0 Axes>"
            ]
          },
          "metadata": {}
        },
        {
          "output_type": "display_data",
          "data": {
            "image/png": "[encoded data removed]",
            "text/plain": [
              "<Figure size 432x216 with 2 Axes>"
            ]
          },
          "metadata": {
            "needs_background": "light"
          }
        },
        {
          "output_type": "display_data",
          "data": {
            "text/plain": [
              "<Figure size 432x288 with 0 Axes>"
            ]
          },
          "metadata": {}
        },
        {
          "output_type": "display_data",
          "data": {
            "image/png": "[encoded data removed]",
            "text/plain": [
              "<Figure size 432x216 with 2 Axes>"
            ]
          },
          "metadata": {
            "needs_background": "light"
          }
        },
        {
          "output_type": "display_data",
          "data": {
            "text/plain": [
              "<Figure size 432x288 with 0 Axes>"
            ]
          },
          "metadata": {}
        },
        {
          "output_type": "display_data",
          "data": {
            "image/png": "[encoded data removed]",
            "text/plain": [
              "<Figure size 432x216 with 2 Axes>"
            ]
          },
          "metadata": {
            "needs_background": "light"
          }
        },
        {
          "output_type": "display_data",
          "data": {
            "text/plain": [
              "<Figure size 432x288 with 0 Axes>"
            ]
          },
          "metadata": {}
        },
        {
          "output_type": "display_data",
          "data": {
            "image/png": "[encoded data removed]",
            "text/plain": [
              "<Figure size 432x216 with 2 Axes>"
            ]
          },
          "metadata": {
            "needs_background": "light"
          }
        },
        {
          "output_type": "display_data",
          "data": {
            "text/plain": [
              "<Figure size 432x288 with 0 Axes>"
            ]
          },
          "metadata": {}
        }
      ]
    },
    {
      "cell_type": "code",
      "metadata": {
        "id": "N1HM_86ukzvU",
        "colab": {
          "base_uri": "https://localhost:8080/",
          "height": 1000
        },
        "outputId": "f768026e-ba0c-4a9e-bedb-a67e84a74a2c"
      },
      "source": [
        "for i in range(9):\n",
        "    plt.figure(figsize=(6,3))\n",
        "    plt.subplot(1,2,1)\n",
        "    plot_image(i, predictions3[i], test_labels, test_images.reshape(10000,28,28))\n",
        "    plt.subplot(1,2,2)\n",
        "    plot_value_array(i, predictions3[i],  test_labels)\n",
        "    plt.show()\n",
        "    plt.clf()"
      ],
      "execution_count": null,
      "outputs": [
        {
          "output_type": "display_data",
          "data": {
            "image/png": "[encoded data removed]",
            "text/plain": [
              "<Figure size 432x216 with 2 Axes>"
            ]
          },
          "metadata": {
            "needs_background": "light"
          }
        },
        {
          "output_type": "display_data",
          "data": {
            "text/plain": [
              "<Figure size 432x288 with 0 Axes>"
            ]
          },
          "metadata": {}
        },
        {
          "output_type": "display_data",
          "data": {
            "image/png": "[encoded data removed]",
            "text/plain": [
              "<Figure size 432x216 with 2 Axes>"
            ]
          },
          "metadata": {
            "needs_background": "light"
          }
        },
        {
          "output_type": "display_data",
          "data": {
            "text/plain": [
              "<Figure size 432x288 with 0 Axes>"
            ]
          },
          "metadata": {}
        },
        {
          "output_type": "display_data",
          "data": {
            "image/png": "[encoded data removed]",
            "text/plain": [
              "<Figure size 432x216 with 2 Axes>"
            ]
          },
          "metadata": {
            "needs_background": "light"
          }
        },
        {
          "output_type": "display_data",
          "data": {
            "text/plain": [
              "<Figure size 432x288 with 0 Axes>"
            ]
          },
          "metadata": {}
        },
        {
          "output_type": "display_data",
          "data": {
            "image/png": "[encoded data removed]",
            "text/plain": [
              "<Figure size 432x216 with 2 Axes>"
            ]
          },
          "metadata": {
            "needs_background": "light"
          }
        },
        {
          "output_type": "display_data",
          "data": {
            "text/plain": [
              "<Figure size 432x288 with 0 Axes>"
            ]
          },
          "metadata": {}
        },
        {
          "output_type": "display_data",
          "data": {
            "image/png": "[encoded data removed]",
            "text/plain": [
              "<Figure size 432x216 with 2 Axes>"
            ]
          },
          "metadata": {
            "needs_background": "light"
          }
        },
        {
          "output_type": "display_data",
          "data": {
            "text/plain": [
              "<Figure size 432x288 with 0 Axes>"
            ]
          },
          "metadata": {}
        },
        {
          "output_type": "display_data",
          "data": {
            "image/png": "[encoded data removed]",
            "text/plain": [
              "<Figure size 432x216 with 2 Axes>"
            ]
          },
          "metadata": {
            "needs_background": "light"
          }
        },
        {
          "output_type": "display_data",
          "data": {
            "text/plain": [
              "<Figure size 432x288 with 0 Axes>"
            ]
          },
          "metadata": {}
        },
        {
          "output_type": "display_data",
          "data": {
            "image/png": "[encoded data removed]",
            "text/plain": [
              "<Figure size 432x216 with 2 Axes>"
            ]
          },
          "metadata": {
            "needs_background": "light"
          }
        },
        {
          "output_type": "display_data",
          "data": {
            "text/plain": [
              "<Figure size 432x288 with 0 Axes>"
            ]
          },
          "metadata": {}
        },
        {
          "output_type": "display_data",
          "data": {
            "image/png": "[encoded data removed]",
            "text/plain": [
              "<Figure size 432x216 with 2 Axes>"
            ]
          },
          "metadata": {
            "needs_background": "light"
          }
        },
        {
          "output_type": "display_data",
          "data": {
            "text/plain": [
              "<Figure size 432x288 with 0 Axes>"
            ]
          },
          "metadata": {}
        },
        {
          "output_type": "display_data",
          "data": {
            "image/png": "[encoded data removed]",
            "text/plain": [
              "<Figure size 432x216 with 2 Axes>"
            ]
          },
          "metadata": {
            "needs_background": "light"
          }
        },
        {
          "output_type": "display_data",
          "data": {
            "text/plain": [
              "<Figure size 432x288 with 0 Axes>"
            ]
          },
          "metadata": {}
        }
      ]
    },
    {
      "cell_type": "code",
      "metadata": {
        "id": "gYbRLwAYk4uw",
        "colab": {
          "base_uri": "https://localhost:8080/",
          "height": 1000
        },
        "outputId": "b63ce085-a0fd-4f7b-c5af-cd4b87b662c5"
      },
      "source": [
        "for i in range(9):\n",
        "    plt.figure(figsize=(6,3))\n",
        "    plt.subplot(1,2,1)\n",
        "    plot_image(i, predictions4[i], test_labels, test_images.reshape(10000,28,28))\n",
        "    plt.subplot(1,2,2)\n",
        "    plot_value_array(i, predictions4[i],  test_labels)\n",
        "    plt.show()\n",
        "    plt.clf()"
      ],
      "execution_count": null,
      "outputs": [
        {
          "output_type": "display_data",
          "data": {
            "image/png": "[encoded data removed]",
            "text/plain": [
              "<Figure size 432x216 with 2 Axes>"
            ]
          },
          "metadata": {
            "needs_background": "light"
          }
        },
        {
          "output_type": "display_data",
          "data": {
            "text/plain": [
              "<Figure size 432x288 with 0 Axes>"
            ]
          },
          "metadata": {}
        },
        {
          "output_type": "display_data",
          "data": {
            "image/png": "[encoded data removed]",
            "text/plain": [
              "<Figure size 432x216 with 2 Axes>"
            ]
          },
          "metadata": {
            "needs_background": "light"
          }
        },
        {
          "output_type": "display_data",
          "data": {
            "text/plain": [
              "<Figure size 432x288 with 0 Axes>"
            ]
          },
          "metadata": {}
        },
        {
          "output_type": "display_data",
          "data": {
            "image/png": "[encoded data removed]",
            "text/plain": [
              "<Figure size 432x216 with 2 Axes>"
            ]
          },
          "metadata": {
            "needs_background": "light"
          }
        },
        {
          "output_type": "display_data",
          "data": {
            "text/plain": [
              "<Figure size 432x288 with 0 Axes>"
            ]
          },
          "metadata": {}
        },
        {
          "output_type": "display_data",
          "data": {
            "image/png": "[encoded data removed]",
            "text/plain": [
              "<Figure size 432x216 with 2 Axes>"
            ]
          },
          "metadata": {
            "needs_background": "light"
          }
        },
        {
          "output_type": "display_data",
          "data": {
            "text/plain": [
              "<Figure size 432x288 with 0 Axes>"
            ]
          },
          "metadata": {}
        },
        {
          "output_type": "display_data",
          "data": {
            "image/png": "[encoded data removed]",
            "text/plain": [
              "<Figure size 432x216 with 2 Axes>"
            ]
          },
          "metadata": {
            "needs_background": "light"
          }
        },
        {
          "output_type": "display_data",
          "data": {
            "text/plain": [
              "<Figure size 432x288 with 0 Axes>"
            ]
          },
          "metadata": {}
        },
        {
          "output_type": "display_data",
          "data": {
            "image/png": "[encoded data removed]",
            "text/plain": [
              "<Figure size 432x216 with 2 Axes>"
            ]
          },
          "metadata": {
            "needs_background": "light"
          }
        },
        {
          "output_type": "display_data",
          "data": {
            "text/plain": [
              "<Figure size 432x288 with 0 Axes>"
            ]
          },
          "metadata": {}
        },
        {
          "output_type": "display_data",
          "data": {
            "image/png": "[encoded data removed]",
            "text/plain": [
              "<Figure size 432x216 with 2 Axes>"
            ]
          },
          "metadata": {
            "needs_background": "light"
          }
        },
        {
          "output_type": "display_data",
          "data": {
            "text/plain": [
              "<Figure size 432x288 with 0 Axes>"
            ]
          },
          "metadata": {}
        },
        {
          "output_type": "display_data",
          "data": {
            "image/png": "[encoded data removed]",
            "text/plain": [
              "<Figure size 432x216 with 2 Axes>"
            ]
          },
          "metadata": {
            "needs_background": "light"
          }
        },
        {
          "output_type": "display_data",
          "data": {
            "text/plain": [
              "<Figure size 432x288 with 0 Axes>"
            ]
          },
          "metadata": {}
        },
        {
          "output_type": "display_data",
          "data": {
            "image/png": "[encoded data removed]",
            "text/plain": [
              "<Figure size 432x216 with 2 Axes>"
            ]
          },
          "metadata": {
            "needs_background": "light"
          }
        },
        {
          "output_type": "display_data",
          "data": {
            "text/plain": [
              "<Figure size 432x288 with 0 Axes>"
            ]
          },
          "metadata": {}
        }
      ]
    },
    {
      "cell_type": "markdown",
      "metadata": {
        "id": "2k2SrVmpMCns"
      },
      "source": [
        "En este apartado, volvemos a verificar que el modelo 3 falla bastante y que el modelo 2 es el que mejor se ha entrenado.\n",
        "\n",
        "En el caso del modelo 3, podemos ver que en varias predicciones llega a confundir algunas prendas con otras. El caso más destacble es el último, en el que confunde una sandalis con una zapatilla."
      ]
    },
    {
      "cell_type": "markdown",
      "metadata": {
        "id": "GwBoOChQ1VH-"
      },
      "source": [
        "### APARTADO 7"
      ]
    },
    {
      "cell_type": "markdown",
      "metadata": {
        "id": "8LbUkwgb1M4w"
      },
      "source": [
        "Mejore el modelo usando el de la configuración del caso 3, pero cambiando el optimizador por ‘adam’y la función de pérdida ‘sparse_categorical_crossentropy’."
      ]
    },
    {
      "cell_type": "code",
      "metadata": {
        "id": "Pe9OYoTC1ZbD"
      },
      "source": [
        "##función de activación: sigmoid\n",
        "##optimizador: sgd\n",
        "network31 = models.Sequential()\n",
        "network31.add(layers.Dense(10, activation='sigmoid', input_shape=(28*28,), name = 'capa1'))\n",
        "network31.add(layers.Dense(10, activation='softmax', name = 'capa2'))"
      ],
      "execution_count": null,
      "outputs": []
    },
    {
      "cell_type": "code",
      "metadata": {
        "id": "vCIi3NXK1uLy"
      },
      "source": [
        "network31.compile(optimizer='adam', \n",
        "                loss='sparse_categorical_crossentropy',\n",
        "                metrics=['accuracy'])"
      ],
      "execution_count": null,
      "outputs": []
    },
    {
      "cell_type": "code",
      "metadata": {
        "id": "UJNihuEB-tMb"
      },
      "source": [
        "network31.add(layers.Flatten(input_shape=(28,28)))"
      ],
      "execution_count": null,
      "outputs": []
    },
    {
      "cell_type": "code",
      "metadata": {
        "id": "KAjug0sq19_e",
        "colab": {
          "base_uri": "https://localhost:8080/"
        },
        "outputId": "4bf4cc0f-22df-4e81-980b-647c56b91824"
      },
      "source": [
        "network31.fit(train_images, train_labels, epochs=5, batch_size=128)"
      ],
      "execution_count": null,
      "outputs": [
        {
          "output_type": "stream",
          "name": "stdout",
          "text": [
            "Epoch 1/5\n",
            "469/469 [==============================] - 2s 3ms/step - loss: 1.4518 - accuracy: 0.6171\n",
            "Epoch 2/5\n",
            "469/469 [==============================] - 1s 2ms/step - loss: 0.8735 - accuracy: 0.7517\n",
            "Epoch 3/5\n",
            "469/469 [==============================] - 1s 2ms/step - loss: 0.6976 - accuracy: 0.7875\n",
            "Epoch 4/5\n",
            "469/469 [==============================] - 1s 2ms/step - loss: 0.6075 - accuracy: 0.8118\n",
            "Epoch 5/5\n",
            "469/469 [==============================] - 1s 2ms/step - loss: 0.5506 - accuracy: 0.8260\n"
          ]
        },
        {
          "output_type": "execute_result",
          "data": {
            "text/plain": [
              "<keras.callbacks.History at 0x7f191ea8e5d0>"
            ]
          },
          "metadata": {},
          "execution_count": 108
        }
      ]
    },
    {
      "cell_type": "markdown",
      "metadata": {
        "id": "06gtDMltIkaT"
      },
      "source": [
        "Cambiando el optimizador, podemos comprobar que el modelo mejora con diferencia\n",
        "\n",
        "**Adam** (Adaptive moment estimation)\n",
        "El algoritmo Adam combina los algoritmos de optimización de AdaGrad y RMSProp. Se mantiene un factor de entrenamiento por parámetro y además de calcular RMSProp, cada factor de entrenamiento también se ve afectado por la media del momentum del gradiente.\n",
        "\n",
        "El algoritmo de Adam es diferente del sgd. El sgd mantiene una tasa de aprendizaje única (alfa) para actualizar todos los pesos, y la tasa de aprendizaje no cambia durante el proceso de entrenamiento, Mientras que Adam calcula una tasa de aprendizaje diferente para cada peso.\n",
        "\n",
        "El algoritmo de Adam obtiene las ventajas de los algoritmos AdaGrad y RMSProp. Adam no solo calcula la tasa de aprendizaje de parámetros adaptativos en función del valor medio del primer momento como el algoritmo RMSProp, sino que también hace un uso completo del valor medio del segundo momento del gradiente (es decir, la varianza no centrada). \n",
        "\n",
        "Específicamente, el algoritmo calcula el promedio móvil exponencial del gradiente, y los hiperparámetros beta1 y beta2 controlan la tasa de disminución de estos promedios móviles. El valor inicial de la media móvil y los valores de beta1 y beta2 están cerca de 1 (valor recomendado), por lo que la desviación de la estimación de momento está cerca de 0. La desviación se mejora calculando primero la estimación con desviación y luego calculando la estimación después de la corrección de desviación"
      ]
    },
    {
      "cell_type": "markdown",
      "metadata": {
        "id": "TWMIAyHb_VQq"
      },
      "source": [
        "### **MATRIZ DE CONFUSIÓN**"
      ]
    },
    {
      "cell_type": "code",
      "metadata": {
        "id": "uDs60mC7_WVJ"
      },
      "source": [
        "#import matplotlib.pyplot as plt\n",
        "def plot_confusion_matrix(cm, classes,\n",
        "                          normalize=False,\n",
        "                          title='Confusion matrix',\n",
        "                          cmap=plt.cm.Blues):\n",
        "    \"\"\"\n",
        "    This function prints and plots the confusion matrix.\n",
        "    Normalization can be applied by setting `normalize=True`.\n",
        "    \"\"\"\n",
        "    plt.imshow(cm, interpolation='nearest', cmap=cmap)\n",
        "    plt.title(title)\n",
        "    plt.colorbar()\n",
        "    tick_marks = np.arange(len(classes))\n",
        "    plt.xticks(tick_marks, classes, rotation=45)\n",
        "    plt.yticks(tick_marks, classes)\n",
        "\n",
        "    if normalize:\n",
        "        cm = cm.astype('float') / cm.sum(axis=1)[:, np.newaxis]\n",
        "\n",
        "    thresh = cm.max() / 2.\n",
        "    for i, j in itertools.product(range(cm.shape[0]), range(cm.shape[1])):\n",
        "        plt.text(j, i, cm[i, j],\n",
        "                 horizontalalignment=\"center\",\n",
        "                 color=\"white\" if cm[i, j] > thresh else \"black\")\n",
        "\n",
        "    plt.tight_layout()\n",
        "    plt.ylabel('Observación')\n",
        "    plt.xlabel('Predicción')"
      ],
      "execution_count": null,
      "outputs": []
    },
    {
      "cell_type": "code",
      "metadata": {
        "id": "T1_Rn4oL_tRO"
      },
      "source": [
        "from collections import Counter\n",
        "from sklearn.metrics import confusion_matrix\n",
        "import itertools\n",
        "import numpy as np\n",
        "from keras.utils.np_utils import to_categorical\n",
        "test_labels = to_categorical(test_labels)"
      ],
      "execution_count": null,
      "outputs": []
    },
    {
      "cell_type": "markdown",
      "metadata": {
        "id": "LxS7gi9Qxnnq"
      },
      "source": [
        "Matriz M1"
      ]
    },
    {
      "cell_type": "code",
      "metadata": {
        "id": "GaiExEuyxnD3",
        "colab": {
          "base_uri": "https://localhost:8080/",
          "height": 311
        },
        "outputId": "7f5da6cf-b9d6-479a-b885-2c131de1e446"
      },
      "source": [
        "# Predict the values from the validation dataset\n",
        "Y_pred1 = network1.predict(test_images)\n",
        "Y_pred_classes1 = np.argmax(Y_pred1, axis = 1) \n",
        "Y_true1 = np.argmax(test_labels, axis = 1) \n",
        "confusion_mtx1 = confusion_matrix(Y_true1, Y_pred_classes1) \n",
        "plot_confusion_matrix(confusion_mtx1, classes = range(10))"
      ],
      "execution_count": null,
      "outputs": [
        {
          "output_type": "display_data",
          "data": {
            "image/png": "[encoded data removed]",
            "text/plain": [
              "<Figure size 432x288 with 2 Axes>"
            ]
          },
          "metadata": {
            "needs_background": "light"
          }
        }
      ]
    },
    {
      "cell_type": "markdown",
      "metadata": {
        "id": "PCMlmLZ7xqoH"
      },
      "source": [
        "Matriz M2"
      ]
    },
    {
      "cell_type": "code",
      "metadata": {
        "id": "kU66BEljxrPW",
        "colab": {
          "base_uri": "https://localhost:8080/",
          "height": 311
        },
        "outputId": "499a7521-f145-4ff5-e2d9-3551bc495095"
      },
      "source": [
        "# Predict the values from the validation dataset\n",
        "Y_pred2 = network2.predict(test_images)\n",
        "Y_pred_classes2 = np.argmax(Y_pred2, axis = 1) \n",
        "Y_true2 = np.argmax(test_labels, axis = 1) \n",
        "confusion_mtx2 = confusion_matrix(Y_true2, Y_pred_classes2) \n",
        "plot_confusion_matrix(confusion_mtx2, classes = range(10))"
      ],
      "execution_count": null,
      "outputs": [
        {
          "output_type": "display_data",
          "data": {
            "image/png": "[encoded data removed]",
            "text/plain": [
              "<Figure size 432x288 with 2 Axes>"
            ]
          },
          "metadata": {
            "needs_background": "light"
          }
        }
      ]
    },
    {
      "cell_type": "markdown",
      "metadata": {
        "id": "gngTFJr1xugc"
      },
      "source": [
        "Matriz M3"
      ]
    },
    {
      "cell_type": "code",
      "metadata": {
        "id": "MXg1gr1_xvJq",
        "colab": {
          "base_uri": "https://localhost:8080/",
          "height": 311
        },
        "outputId": "2341a72a-197b-41eb-acc7-8b4178ddd155"
      },
      "source": [
        "Y_pred3 = network3.predict(test_images)\n",
        "Y_pred_classes3 = np.argmax(Y_pred3, axis = 1) \n",
        "Y_true3 = np.argmax(test_labels, axis = 1) \n",
        "confusion_mtx3 = confusion_matrix(Y_true3, Y_pred_classes3) \n",
        "plot_confusion_matrix(confusion_mtx3, classes = range(10))"
      ],
      "execution_count": null,
      "outputs": [
        {
          "output_type": "display_data",
          "data": {
            "image/png": "[encoded data removed]",
            "text/plain": [
              "<Figure size 432x288 with 2 Axes>"
            ]
          },
          "metadata": {
            "needs_background": "light"
          }
        }
      ]
    },
    {
      "cell_type": "markdown",
      "metadata": {
        "id": "dcZ6TBRNxvk9"
      },
      "source": [
        "Matriz M4"
      ]
    },
    {
      "cell_type": "code",
      "metadata": {
        "id": "BNO0ypeTxwHK",
        "colab": {
          "base_uri": "https://localhost:8080/",
          "height": 311
        },
        "outputId": "89e886ab-90db-4478-b7bf-76c78bfcdd74"
      },
      "source": [
        "Y_pred4 = network4.predict(test_images)\n",
        "Y_pred_classes4 = np.argmax(Y_pred4, axis = 1) \n",
        "Y_true4 = np.argmax(test_labels, axis = 1) \n",
        "confusion_mtx4 = confusion_matrix(Y_true4, Y_pred_classes4) \n",
        "plot_confusion_matrix(confusion_mtx4, classes = range(10))"
      ],
      "execution_count": null,
      "outputs": [
        {
          "output_type": "display_data",
          "data": {
            "image/png": "[encoded data removed]",
            "text/plain": [
              "<Figure size 432x288 with 2 Axes>"
            ]
          },
          "metadata": {
            "needs_background": "light"
          }
        }
      ]
    }
  ]
}
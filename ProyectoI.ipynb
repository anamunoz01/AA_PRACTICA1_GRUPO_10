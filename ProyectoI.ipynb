{
  "nbformat": 4,
  "nbformat_minor": 0,
  "metadata": {
    "colab": {
      "name": "Untitled0.ipynb",
      "provenance": [],
      "authorship_tag": "ABX9TyNHHXDiBWuTWnGKdvgAO2az",
      "include_colab_link": true
    },
    "kernelspec": {
      "name": "python3",
      "display_name": "Python 3"
    },
    "language_info": {
      "name": "python"
    }
  },
  "cells": [
    {
      "cell_type": "markdown",
      "metadata": {
        "id": "view-in-github",
        "colab_type": "text"
      },
      "source": [
        "<a href=\"https://colab.research.google.com/github/anamunoz01/AA_PRACTICA1_GRUPO_10/blob/main/ProyectoI.ipynb\" target=\"_parent\"><img src=\"https://colab.research.google.com/assets/colab-badge.svg\" alt=\"Open In Colab\"/></a>"
      ]
    },
    {
      "cell_type": "markdown",
      "source": [
        "#**MODELO PREDICTIVO DE ATAQUES AL CORAZÓN CON REDES NEURONALES** \n",
        "\n",
        "**Proyecto Integrador III**\n",
        "\n",
        "- Elena Gómez\n",
        "\n",
        "- Ana Muñoz\n",
        "\n",
        "- Inés Sánchez\n",
        "\n",
        "- Miriam Toledo\n"
      ],
      "metadata": {
        "id": "jDKv23TfLEqS"
      }
    },
    {
      "cell_type": "markdown",
      "source": [
        "## **Objetivo**\n",
        "\n",
        "Vamos a predecir la posibilidad de sufrir un ataque al corazón dependiendo de diferentes características relacionadas con la salud del paciente. \n",
        "\n",
        "La base de datos que utilizaremos la encontramos en kaggle.com, como Health care: Heart attack possibility. \n",
        "\n",
        "Las características que vamos a estudiar son las siguientes:\n",
        "1. Edad\n",
        "2. Sexo\n",
        "3. Tipo de dolor de pecho (4 tipos)\n",
        "4. Presión en sangre\n",
        "5. Colesterol en mg/dl\n",
        "6. Azúcar en sangre > 120 mg/dl\n",
        "7. Resultado electrocardiograma (valores 0, 1, 2)\n",
        "8. Frecuencia cardiaca máxima alcanzada\n",
        "9. Angina de pecho (inducida por el ejercicio)\n",
        "10. Depresión del ST inducida por el ejercicio en relación con el reposo\n",
        "11. La pendiente del segmento ST máximo del ejercicio\n",
        "12. Número de vasos mayores (0-3) coloreados por la fluoroscopia\n",
        "13. thal: 0 = normal; 1 = defecto fijo; 2 = defecto reversible\n",
        "14. objetivo: 0= menos posibilidades de infarto 1= más posibilidades de infarto"
      ],
      "metadata": {
        "id": "6LOv1usqMJo7"
      }
    },
    {
      "cell_type": "markdown",
      "source": [
        "**Estudio y análisis de datos**"
      ],
      "metadata": {
        "id": "6Gge8PKmNX6H"
      }
    },
    {
      "cell_type": "code",
      "source": [
        "import keras\n",
        "keras.__version__"
      ],
      "metadata": {
        "id": "6w8hfdx3Nb0O"
      },
      "execution_count": null,
      "outputs": []
    },
    {
      "cell_type": "code",
      "source": [
        "url = 'copied_raw_github_link'\n"
      ],
      "metadata": {
        "id": "JS4ZSXo2N3RB"
      },
      "execution_count": null,
      "outputs": []
    }
  ]
}